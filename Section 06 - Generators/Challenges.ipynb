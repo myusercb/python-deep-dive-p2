{
 "cells": [
  {
   "cell_type": "markdown",
   "id": "3a0e4c2d-14f6-4237-b044-2b14b3902f4f",
   "metadata": {},
   "source": [
    "# Challenges"
   ]
  },
  {
   "cell_type": "markdown",
   "id": "fab92747-ca89-4afe-8400-5beb44e31b6e",
   "metadata": {},
   "source": [
    "### Yielding and generator functions"
   ]
  },
  {
   "cell_type": "markdown",
   "id": "e0a58cf2-d83e-43d6-8d4f-f7a668322b8f",
   "metadata": {},
   "source": [
    "<br>"
   ]
  },
  {
   "cell_type": "markdown",
   "id": "e1ab795a-5a3e-4429-9b87-b9b14554022d",
   "metadata": {},
   "source": [
    "> ### Challange 1"
   ]
  },
  {
   "cell_type": "markdown",
   "id": "173222fd-e733-4039-82eb-3b702807da3a",
   "metadata": {},
   "source": [
    "Goal Overview:<br>\n",
    "We will demonstrate that generators are in fact iterators that use lazy iteration. To create an effective demonstration let's start our transiton from a class implementation to a closure and ultimately the generator.\n",
    "We will pay attention to the similarities between the three. For this challange we will make use of math.factorials module.\n",
    "\n",
    "Challenge 1:<br>\n",
    "Create an iterator `class` called `FactIter` that takes a number as input `n` (representing the length of the iterator) and returns a list of factorials. <br>\n",
    "Use math module to calc factorial.\n",
    "\n",
    "Output:\n",
    "```\n",
    ">>>fact_iter = FactIter(5)\n",
    ">>>[i for i in fact_iter]\n",
    "[1, 1, 2, 6, 24]\n",
    "```"
   ]
  },
  {
   "cell_type": "code",
   "execution_count": null,
   "id": "a139b920-525c-4ab2-9834-58c6b7ec77e1",
   "metadata": {
    "tags": []
   },
   "outputs": [],
   "source": [
    "# Example\n",
    "\n",
    "import math\n",
    "\n",
    "class FactIter:\n",
    "    def __init__(self, n):\n",
    "        self.n = n\n",
    "        self.i = 0\n",
    "        \n",
    "    def __iter__(self):\n",
    "        return self\n",
    "    \n",
    "    def __next__(self):\n",
    "        if self.i >= self.n:\n",
    "            raise StopIteration\n",
    "        else:\n",
    "            result = math.factorial(self.i)\n",
    "            self.i +=1\n",
    "            return result\n",
    "        \n",
    "fact_iter = FactIter(5)\n",
    "[i for i in fact_iter]"
   ]
  },
  {
   "cell_type": "code",
   "execution_count": null,
   "id": "130e491d-c7b0-4635-a007-a163473e883d",
   "metadata": {},
   "outputs": [],
   "source": [
    "# done"
   ]
  },
  {
   "cell_type": "markdown",
   "id": "f83e16fc-f580-426d-ad6d-1bf4c7183d23",
   "metadata": {
    "tags": []
   },
   "source": [
    "Goal:<br>\n",
    "After creating the `class` iterator we now want to compare it to a `closure` that will have the same purpose. The `iter` function will be responsible for creating the iterator from the closure. In other words we will be iterating over a callable (the closure) and we can also add a sentinel to our `iter `function to stop iteration when hitting a desired value. \n",
    "\n",
    "Challenge 2:<br>\n",
    "Create an `closure` iterator named `fact` that generates factorial numbers infinitely using the math module. <br>\n",
    "\n",
    "Output:\n",
    "```\n",
    ">>>f = fact()   # generates incremental factorials infinitely\n",
    ">>>fact_iter = iter(f, math.factorial(5))   # creates an iterable from fact() & use a sentinel\n",
    ">>>list(fact_iter)\n",
    "[1, 1, 2, 6, 24]\n",
    "```"
   ]
  },
  {
   "cell_type": "code",
   "execution_count": null,
   "id": "552a2281-1b33-43ee-8d1a-a1a0d4c787c0",
   "metadata": {
    "tags": []
   },
   "outputs": [],
   "source": [
    "# Example\n",
    "\n",
    "def fact():\n",
    "    i = 0\n",
    "    def inner():\n",
    "        nonlocal i\n",
    "        result = math.factorial(i)\n",
    "        i += 1\n",
    "        return result\n",
    "    return inner\n",
    "\n",
    "f = fact()\n",
    "fact_iter = iter(f, math.factorial(5))\n",
    "list(fact_iter)"
   ]
  },
  {
   "cell_type": "code",
   "execution_count": null,
   "id": "6a16372e-131a-4450-a939-4c8ab4e61a3f",
   "metadata": {},
   "outputs": [],
   "source": [
    "# done"
   ]
  },
  {
   "cell_type": "markdown",
   "id": "44ada917-5b8a-4495-8318-7641107f123c",
   "metadata": {},
   "source": [
    "Goal:<br>\n",
    "Now that we have seen how to reproduce the same outcome using a `closure` we want to replicate the same outcome using a `generator function/factory`.\n",
    "\n",
    "Challenge 3:<br>\n",
    "Create a generator function named fact_gen that takes a value `n` as input (representing the length of the iterator) and returns a list of factorials.\n",
    "\n",
    "Output:<br>\n",
    "```\n",
    ">>>list(fact_gen(5))\n",
    "[1, 1, 2, 6, 24]\n",
    "```"
   ]
  },
  {
   "cell_type": "code",
   "execution_count": null,
   "id": "01389f13-0702-4eca-92ec-67a2d846d6dc",
   "metadata": {
    "tags": []
   },
   "outputs": [],
   "source": [
    "# Example\n",
    "\n",
    "def fact_gen(n):\n",
    "    for i in range(n):\n",
    "        yield math.factorial(i)\n",
    "              \n",
    "list(fact_gen(5))"
   ]
  },
  {
   "cell_type": "code",
   "execution_count": 35,
   "id": "242b66f2-15c5-46ad-ba96-303e555559e1",
   "metadata": {},
   "outputs": [
    {
     "data": {
      "text/plain": [
       "[1, 1, 2, 6, 24]"
      ]
     },
     "execution_count": 35,
     "metadata": {},
     "output_type": "execute_result"
    }
   ],
   "source": [
    "# done"
   ]
  },
  {
   "cell_type": "markdown",
   "id": "f55a0615-d647-454f-8331-158e8a21aebb",
   "metadata": {},
   "source": [
    "<br>"
   ]
  },
  {
   "cell_type": "markdown",
   "id": "8b39abf4-d129-45d3-a71a-79b8caf37981",
   "metadata": {},
   "source": [
    "> ### Challange 2"
   ]
  },
  {
   "cell_type": "markdown",
   "id": "2cd1d16e-7813-43d2-8e62-4037fbc8b612",
   "metadata": {},
   "source": [
    "Goal:<br>\n",
    "Similarly with the first challange, we will be creating an iterator using multiple approaches starting with `class`. The goal here is to understand generators and how we can transition from the most low level approach to the highest level approach. For this problem we will be using Fibbonaci numbers.\n",
    "\n",
    "Challenge 1: <br>\n",
    "- Create a function named `fib` that computes the fibbonaci number given a value `n`\n",
    "- Use a list comprehension to generate first 7 fibbonaci numbers\n",
    "\n",
    "Outcome:\n",
    "```\n",
    ">>>fib(5)\n",
    "8\n",
    "\n",
    ">>> <list comprehension 7>\n",
    "[1, 1, 2, 3, 5, 8, 13]\n",
    "```"
   ]
  },
  {
   "cell_type": "code",
   "execution_count": null,
   "id": "dcf7433a-443e-4908-a05c-77de75770751",
   "metadata": {
    "tags": []
   },
   "outputs": [],
   "source": [
    "# Example\n",
    "\n",
    "def fib(n):\n",
    "    fib_0 = 1\n",
    "    fib_1 = 1\n",
    "    for i in range(n-1):\n",
    "        fib_0, fib_1 = fib_1, fib_0 + fib_1\n",
    "    return fib_1\n",
    "\n",
    "print(fib(5))\n",
    "[fib(i) for i in range(7)]"
   ]
  },
  {
   "cell_type": "code",
   "execution_count": 43,
   "id": "eb372bf0-3730-4ce2-9f33-efc352081426",
   "metadata": {},
   "outputs": [],
   "source": [
    "# done"
   ]
  },
  {
   "cell_type": "markdown",
   "id": "c5e895ab-fb4d-4333-a729-2ef192a9048c",
   "metadata": {},
   "source": [
    "Challenge 2: <br>\n",
    "Create an iterator `class` named `FibIter` that takes a value `n` as input and generates a list of fibbonaci number of length n. Make use of the `fib()` function created above to compute the fibbonaci numbers.\n",
    "\n",
    "Outcome: <br>\n",
    "```\n",
    ">>> fib_iter = FibIter(7)\n",
    ">>> [i for i in fib_iter]\n",
    "[1, 1, 2, 3, 5, 8, 13]\n",
    "```"
   ]
  },
  {
   "cell_type": "code",
   "execution_count": null,
   "id": "72ec66a6-59c0-4904-8f09-dc5d40c0e8ef",
   "metadata": {
    "tags": []
   },
   "outputs": [],
   "source": [
    "# Example\n",
    "\n",
    "class FibIter:\n",
    "    def __init__(self,n):\n",
    "        self.n = n\n",
    "        self.i = 0\n",
    "        \n",
    "    def __iter__(self):\n",
    "        return self\n",
    "    \n",
    "    def __next__(self):\n",
    "        if self.i >= self.n:\n",
    "            raise StopIteration\n",
    "        else:\n",
    "            result = fib(self.i)\n",
    "            self.i +=1\n",
    "            return result\n",
    "        \n",
    "fib_iter = FibIter(7)\n",
    "[i for i in fib_iter]"
   ]
  },
  {
   "cell_type": "code",
   "execution_count": null,
   "id": "1c3a298d-6123-462b-b082-d93e25906936",
   "metadata": {},
   "outputs": [],
   "source": [
    "# done"
   ]
  },
  {
   "cell_type": "markdown",
   "id": "6e5301ed-38b2-4814-bd64-865f81361689",
   "metadata": {},
   "source": [
    "Challenge 3: <br>\n",
    "Copy the `fib` function from above. <br>\n",
    "Create a `decorator` named `fib_dec` that incrementes the index by one each time it is called. This decorator has to work with the `fib` function.\n",
    "\n",
    "Outcome: <br>\n",
    "```\n",
    ">>>[fib() for i in range(7)]\n",
    ">>>[1, 1, 2, 3, 5, 8, 13]\n",
    "```"
   ]
  },
  {
   "cell_type": "code",
   "execution_count": 64,
   "id": "b85392a5-dd12-4183-8497-58c3940b7b7a",
   "metadata": {
    "tags": []
   },
   "outputs": [
    {
     "data": {
      "text/plain": [
       "[1, 1, 2, 3, 5, 8, 13]"
      ]
     },
     "execution_count": 64,
     "metadata": {},
     "output_type": "execute_result"
    }
   ],
   "source": [
    "# Example\n",
    "\n",
    "def fib_dec(fn):\n",
    "    n = 0\n",
    "    def inner():\n",
    "        nonlocal n\n",
    "        result = fn(n)\n",
    "        n +=1 \n",
    "        return result\n",
    "    return inner\n",
    "\n",
    "@fib_dec\n",
    "def fib(n):\n",
    "    fib_0 = 1\n",
    "    fib_1 = 1\n",
    "    for i in range(n-1):\n",
    "        fib_0, fib_1 = fib_1, fib_0 + fib_1\n",
    "    return fib_1\n",
    "\n",
    "[fib() for i in range(7)]"
   ]
  },
  {
   "cell_type": "code",
   "execution_count": 66,
   "id": "7f288eea-aa21-4b50-8b1e-9ba23e2519ef",
   "metadata": {},
   "outputs": [],
   "source": [
    "# done"
   ]
  },
  {
   "cell_type": "markdown",
   "id": "3cc9cf12-fd3c-4a86-a25e-d80f156c0810",
   "metadata": {},
   "source": [
    "Challenge 4: <br>\n",
    "Transform the `fib` function from above into a generator function <br>\n",
    "Create a `generator` function named `fib_gen` that generates a list of fibbonaci numbers.\n",
    "\n",
    "Outcome: <br>\n",
    "```\n",
    ">>>[i for i in fib_gen(7)]\n",
    ">>>[1, 2, 3, 5, 8, 13]\n",
    "```"
   ]
  },
  {
   "cell_type": "code",
   "execution_count": 64,
   "id": "2f2bf043-0336-46ff-a09e-f961222ad2aa",
   "metadata": {
    "jupyter": {
     "source_hidden": true
    },
    "tags": []
   },
   "outputs": [
    {
     "data": {
      "text/plain": [
       "[1, 1, 2, 3, 5, 8, 13]"
      ]
     },
     "execution_count": 64,
     "metadata": {},
     "output_type": "execute_result"
    }
   ],
   "source": [
    "# Example\n",
    "\n",
    "def fib_gen(n):\n",
    "    fib_0 = 1\n",
    "    fib_1 = 1\n",
    "    \n",
    "    # generate first two numbers (1,1)\n",
    "    yield fib_0\n",
    "    yield fib_1\n",
    "    \n",
    "    # generate fibonnaci numbers apart from first 2\n",
    "    for i in range(2, n):\n",
    "        fib_0, fib_1 = fib_1, fib_0 + fib_1\n",
    "        yield fib_1\n",
    "\n",
    "[i for i in fib_gen(7)]"
   ]
  },
  {
   "cell_type": "code",
   "execution_count": 79,
   "id": "9cbab8bb-2956-4624-b9b8-65c2a9268a08",
   "metadata": {},
   "outputs": [],
   "source": [
    "# done"
   ]
  },
  {
   "cell_type": "markdown",
   "id": "70362dd7-2dff-4c9a-8100-75d186df7377",
   "metadata": {},
   "source": [
    "### Making an iterator from a generator"
   ]
  },
  {
   "cell_type": "markdown",
   "id": "e6010de5-bb52-4938-ac28-f7fcdf9a1988",
   "metadata": {},
   "source": [
    "Problem: <br>\n",
    "A `generator function` is a `generator factory` which means that it returns a **new** generator each time it is called. <br>\n",
    "A generator is also an iterable which means it has the same `exhaustion` problem, once iterated it will raise StopIteration error. <br>\n",
    "This will lead to some bugs if trying to iterate more than once over a generator. <br>\n",
    "\n",
    "Goal: <br>\n",
    "Create an `iterator` from a generator.<br>\n",
    "\n",
    "Challenge: <br>\n",
    "1. Create a `generator function` called `squares_gen` that takes a number `n` and returns an **array** of squared numbers up to `n` . <br>\n",
    "2. Create an **iterable** called `Squares` that uses the `squares_gen` generator function and outputs a new generator each time it's called. <br>\n",
    "__Note!__  Define the `squares_gen` generator function inside the iterable class `Squares` <br>\n",
    "\n",
    "Output:\n",
    "```\n",
    ">>>s = Squares(5)\n",
    ">>>list(s) # this can be called infinitely and won't exhaust\n",
    ">>>[0, 1, 4, 9, 16]\n",
    "```"
   ]
  },
  {
   "cell_type": "code",
   "execution_count": 81,
   "id": "496db897-5408-443a-86df-3b3594ae9ae8",
   "metadata": {
    "jupyter": {
     "source_hidden": true
    },
    "tags": []
   },
   "outputs": [],
   "source": [
    "# Example\n",
    "\n",
    "# 2. Iterable from generator\n",
    "class Squares():\n",
    "    def __init__(self, n):\n",
    "        self.n = n\n",
    "    \n",
    "    def __iter__(self):\n",
    "        return Squares.squares_gen(self.n)\n",
    "    \n",
    "    # 1. generator function\n",
    "    @staticmethod\n",
    "    def squares_gen(n):\n",
    "        for i in range(n):\n",
    "            yield i **2\n",
    "        \n",
    "        \n",
    "s = Squares(5)\n",
    "assert list(s) == [0, 1, 4, 9, 16]"
   ]
  },
  {
   "cell_type": "code",
   "execution_count": 89,
   "id": "c0096b48-4752-4d9d-a958-e12e8b47066b",
   "metadata": {},
   "outputs": [],
   "source": [
    "# done"
   ]
  },
  {
   "cell_type": "markdown",
   "id": "f2492028-bd6e-43b4-b0e4-e33e0067fdf9",
   "metadata": {},
   "source": [
    "### Generator Expressions and Performance\n",
    "Time Performance:<br>\n",
    "> Time performance between a generator and a list is the same <br>\n",
    "\n",
    "> The generator advantage is that you can use as much as you need and you don't have to create a list of elements that you don't use, which can be much faster. <br>\n",
    "\n",
    "Memory performance:<br>\n",
    "> Generators are better for memory. <br>\n",
    "\n",
    "> While lists will hold all elements in memory the generators keep in memory one value at a time as the values are being generated.\n",
    "\n",
    "Notes:\n",
    "- Generators use lazy evaluation\n",
    "- Generators can be only iterated once\n",
    "- Generators are created when requested not upfront\n",
    "- Unlike lists generators don't have to store all data in memory, just the elements called which makes them good candidates for memory intensive tasks. For example, say you wrote a 'filesystem search' program. You could perform the search in its entirety, collect the results and then display them one at a time. All of the results would have to be collected before you showed the first, and all of the results would be in memory at the same time. Or you could display the results while you find them, which would be more memory efficient and much friendlier towards the user\n",
    "- Good alternative for infinite loops Eg: a function that calculates all fibbonaci numbers"
   ]
  },
  {
   "cell_type": "markdown",
   "id": "c5384fa3-ee02-45bc-8bd2-22c11f6548f5",
   "metadata": {},
   "source": [
    "<br>"
   ]
  },
  {
   "cell_type": "markdown",
   "id": "4e14d760-01e9-4c63-97e3-6b25eef9c195",
   "metadata": {},
   "source": [
    "Challenge 1: <br>\n",
    "1. Create the multiplicatin table from 1 to 10 using a list comprehension\n",
    "2. Create the multiplication table from 1 to 10 using a generator\n",
    "3. Use map to unpack the generator in a matrix.\n",
    "**Note!** The list comprehension and the generator comprehension output should be the same.\n",
    "\n",
    "Output:\n",
    "```\n",
    ">>>mult_list = <list comprehension>\n",
    ">>>mult_gen = <generator comprehension>\n",
    ">>> list(map(list), mult_gen)\n",
    "[[1, 2, 3, 4, 5, 6, 7, 8, 9, 10],\n",
    " [2, 4, 6, 8, 10, 12, 14, 16, 18, 20],\n",
    " [3, 6, 9, 12, 15, 18, 21, 24, 27, 30],\n",
    " [4, 8, 12, 16, 20, 24, 28, 32, 36, 40],\n",
    " [5, 10, 15, 20, 25, 30, 35, 40, 45, 50],\n",
    " [6, 12, 18, 24, 30, 36, 42, 48, 54, 60],\n",
    " [7, 14, 21, 28, 35, 42, 49, 56, 63, 70],\n",
    " [8, 16, 24, 32, 40, 48, 56, 64, 72, 80],\n",
    " [9, 18, 27, 36, 45, 54, 63, 72, 81, 90],\n",
    " [10, 20, 30, 40, 50, 60, 70, 80, 90, 100]]\n",
    " \n",
    "```\n",
    "\n"
   ]
  },
  {
   "cell_type": "code",
   "execution_count": 100,
   "id": "7676bda4-ea4b-4d37-a691-9e7e7e52881b",
   "metadata": {
    "tags": []
   },
   "outputs": [
    {
     "data": {
      "text/plain": [
       "[[1, 2, 3, 4, 5, 6, 7, 8, 9, 10],\n",
       " [2, 4, 6, 8, 10, 12, 14, 16, 18, 20],\n",
       " [3, 6, 9, 12, 15, 18, 21, 24, 27, 30],\n",
       " [4, 8, 12, 16, 20, 24, 28, 32, 36, 40],\n",
       " [5, 10, 15, 20, 25, 30, 35, 40, 45, 50],\n",
       " [6, 12, 18, 24, 30, 36, 42, 48, 54, 60],\n",
       " [7, 14, 21, 28, 35, 42, 49, 56, 63, 70],\n",
       " [8, 16, 24, 32, 40, 48, 56, 64, 72, 80],\n",
       " [9, 18, 27, 36, 45, 54, 63, 72, 81, 90],\n",
       " [10, 20, 30, 40, 50, 60, 70, 80, 90, 100]]"
      ]
     },
     "execution_count": 100,
     "metadata": {},
     "output_type": "execute_result"
    }
   ],
   "source": [
    "# Example\n",
    "\n",
    "mult_list = [[i*j for i in range(1,10+1)] for j in range(1,10+1)]\n",
    "mult_gen = ((i*j for j in range(1,10+1)) for i in range(1,10+1))\n",
    "list(map(list,mult_gen))"
   ]
  },
  {
   "cell_type": "code",
   "execution_count": 99,
   "id": "c43c33c6-57fe-4d10-86da-b81389886843",
   "metadata": {},
   "outputs": [],
   "source": [
    "# done"
   ]
  },
  {
   "cell_type": "markdown",
   "id": "bd5f8519-36f4-4a15-9a63-4db73c0abb11",
   "metadata": {},
   "source": [
    "### Yield From\n",
    "> The purpose of `yield from` is to simplify the syntax of unpacking a nested generator, up to two levels deep. <br>\n",
    "> For now the intended use of `yield from` is to delegate the iteration to another iterator like we did with sequence type delegating `__getitem__` functionality to list. There is more to discuss about it at a later stage."
   ]
  },
  {
   "cell_type": "markdown",
   "id": "4b6a1aef-11c6-4bbe-9694-92fd79c1232b",
   "metadata": {},
   "source": [
    "Goal: <br>\n",
    "In this section we want to observe how we can use the `yield from` expression by comparing some bits of code that output the same result using both `for loop` and `yield from`. <br>\n",
    " - `yield from` syntax simplifies the problem of unpacking a nested generator.<br>\n",
    "\n",
    "Challenges: <br>\n",
    "1. Create a generator function called `matrix` that takes as input `n` and creates a matrix of `n x n` similar to multiplication table in school. This function will output a generator\n",
    "\n",
    "2. Create a second generator function called `matrix_iterator` that takes as input `n`, makes use of the `matrix` generator function and unpacks the nested generator comprehension into a non nested generator.\n",
    "\n",
    "3. Refactor `matrix_iterator` to make use of the `yield from` syntax and name it `matrix_iterator_r`. Compare the two approaches.\n",
    "\n",
    "Output:\n",
    "```\n",
    ">>>list(matrix(3))\n",
    ">>>[<generator object matrix.<locals>.<genexpr>.<genexpr> at 0x7f1a783f9a50>,\n",
    "    <generator object matrix.<locals>.<genexpr>.<genexpr> at 0x7f1a783f99e0>,\n",
    "    <generator object matrix.<locals>.<genexpr>.<genexpr> at 0x7f1a783f9970>]\n",
    "    \n",
    ">>>list(matrix_iterator(3))\n",
    ">>>[1, 2, 3, 2, 4, 6, 3, 6, 9]\n",
    "\n",
    ">>>list(matrix_iterator_r(3))\n",
    ">>>[1, 2, 3, 2, 4, 6, 3, 6, 9]\n",
    "```"
   ]
  },
  {
   "cell_type": "code",
   "execution_count": 18,
   "id": "b12bbbb0-6ce8-40a7-82ad-d180232f94e8",
   "metadata": {
    "jupyter": {
     "source_hidden": true
    },
    "tags": []
   },
   "outputs": [
    {
     "data": {
      "text/plain": [
       "[1, 2, 3, 2, 4, 6, 3, 6, 9]"
      ]
     },
     "execution_count": 18,
     "metadata": {},
     "output_type": "execute_result"
    }
   ],
   "source": [
    "# Example\n",
    "\n",
    "def matrix(n):\n",
    "    gen = ( (i*j for j in range(1,n+1)) \n",
    "            for i in range(1,n+1)\n",
    "            )\n",
    "    return gen\n",
    "\n",
    "\n",
    "def matrix_iterator(n):\n",
    "    for row in matrix(n):\n",
    "        for item in row:\n",
    "            yield item\n",
    "            \n",
    "def matrix_iterator_r(n):\n",
    "    for row in matrix(n):\n",
    "        yield from row\n",
    "\n",
    "list(matrix(3))\n",
    "list(matrix_iterator(3))\n",
    "list(matrix_iterator_r(3))"
   ]
  },
  {
   "cell_type": "code",
   "execution_count": 143,
   "id": "68dc9e00-0a14-4ecf-a1c1-29b0a87646db",
   "metadata": {},
   "outputs": [],
   "source": [
    "# done"
   ]
  },
  {
   "cell_type": "markdown",
   "id": "dd959e66-55b1-481b-bd39-925622fe795b",
   "metadata": {},
   "source": [
    "Goal: <br>\n",
    "As before we want to see how we would aproach a problem using a generator that uses `yield from` syntax instead of a for loop or list comprehension. In this scenario we want to read from 3 `.txt` files (combine them) using a generator function. <br>\n",
    "\n",
    "Challenges: <br>\n",
    "```\n",
    "# All files are encoded using 'Latin-1'\n",
    "file_1 = '06 - Yield From/car-brands-1.txt' \n",
    "file_2 = '06 - Yield From/car-brands-2.txt' \n",
    "file_3 = '06 - Yield From/car-brands-3.txt'\n",
    "files = file_1, file_2, file_3\n",
    "```\n",
    "1. Using `car-brands-*` files create a generator function called `brands` that takes any number of files as input and returns a generator/iterable with all car brands using for loops.\n",
    "> make sure to specify encoding = 'Latin-1' <br>\n",
    "> make sure to strip('\\n') from each line\n",
    "\n",
    "2. Refactor the `brands` function to use `yield from` and name it `brands_r`. <br>\n",
    "Also according to the SOLID principles we don't want a function to have 2 responsibilities, chain the files and clean the data so we might want to separate the two. The cleaning function name should be `gen_clean_data` and is responsible for dealing with `\\n`.\n",
    "\n",
    "\n",
    "Output:\n",
    "```\n",
    ">>>ls = []\n",
    ">>>for brand in brands(*files):\n",
    ">>>    ls.append(brand)\n",
    "    \n",
    ">>>assert ls == list(brands_r(*files))\n",
    "```"
   ]
  },
  {
   "cell_type": "code",
   "execution_count": 187,
   "id": "c2eaf718-4658-45b2-8b6d-747843d77e12",
   "metadata": {
    "tags": []
   },
   "outputs": [],
   "source": [
    "# Example\n",
    "\n",
    "file_1 = '06 - Yield From/car-brands-1.txt' \n",
    "file_2 = '06 - Yield From/car-brands-2.txt' \n",
    "file_3 = '06 - Yield From/car-brands-3.txt'\n",
    "files = file_1, file_2, file_3\n",
    "\n",
    "# challenge 1\n",
    "def brands(*files):\n",
    "    for f_name in files:\n",
    "        with open(f_name, encoding='Latin-1') as f:\n",
    "            for line in f:\n",
    "                yield line.strip('\\n')\n",
    "                \n",
    "# challenge 2               \n",
    "def gen_clean_data(file):\n",
    "    with open(file, encoding='Latin-1') as f:\n",
    "        for row in f:\n",
    "            yield row.strip('\\n')\n",
    "            \n",
    "def brands_r(*files):\n",
    "    for f_name in files:\n",
    "        yield from gen_clean_data(f_name)\n",
    "\n",
    "ls = []\n",
    "for brand in brands(*files):\n",
    "    ls.append(brand)\n",
    "    \n",
    "assert ls == list(brands_r(*files))"
   ]
  },
  {
   "cell_type": "code",
   "execution_count": 225,
   "id": "3d7fa612-583e-4cdb-89c2-c8553cf985fd",
   "metadata": {},
   "outputs": [
    {
     "data": {
      "text/plain": [
       "['Alfa Romeo',\n",
       " 'Aston Martin',\n",
       " 'Audi',\n",
       " 'Bentley',\n",
       " 'Benz',\n",
       " 'BMW',\n",
       " 'Bugatti',\n",
       " 'Cadillac',\n",
       " 'Chevrolet',\n",
       " 'Chrysler',\n",
       " 'Citroën',\n",
       " 'Corvette',\n",
       " 'DAF',\n",
       " 'Dacia',\n",
       " 'Daewoo',\n",
       " 'Daihatsu',\n",
       " 'Datsun',\n",
       " 'De Lorean',\n",
       " 'Dino',\n",
       " 'Dodge',\n",
       " 'Farboud',\n",
       " 'Ferrari',\n",
       " 'Fiat',\n",
       " 'Ford',\n",
       " 'Honda',\n",
       " 'Hummer',\n",
       " 'Hyundai',\n",
       " 'Jaguar',\n",
       " 'Jeep',\n",
       " 'KIA',\n",
       " 'Koenigsegg',\n",
       " 'Lada',\n",
       " 'Lamborghini',\n",
       " 'Lancia',\n",
       " 'Land Rover',\n",
       " 'Lexus',\n",
       " 'Ligier',\n",
       " 'Lincoln',\n",
       " 'Lotus',\n",
       " 'Martini',\n",
       " 'Maserati',\n",
       " 'Maybach',\n",
       " 'Mazda',\n",
       " 'McLaren',\n",
       " 'Mercedes-Benz',\n",
       " 'Mini',\n",
       " 'Mitsubishi',\n",
       " 'Nissan',\n",
       " 'Noble',\n",
       " 'Opel',\n",
       " 'Peugeot',\n",
       " 'Pontiac',\n",
       " 'Porsche',\n",
       " 'Renault',\n",
       " 'Rolls-Royce',\n",
       " 'Saab',\n",
       " 'Seat',\n",
       " 'Å\\xa0koda',\n",
       " 'Smart',\n",
       " 'Spyker',\n",
       " 'Subaru',\n",
       " 'Suzuki',\n",
       " 'Toyota',\n",
       " 'Vauxhall',\n",
       " 'Volkswagen',\n",
       " 'Volvo']"
      ]
     },
     "execution_count": 225,
     "metadata": {},
     "output_type": "execute_result"
    }
   ],
   "source": [
    "file_1 = '06 - Yield From/car-brands-1.txt' \n",
    "file_2 = '06 - Yield From/car-brands-2.txt' \n",
    "file_3 = '06 - Yield From/car-brands-3.txt'\n",
    "files = file_1, file_2, file_3\n",
    "\n",
    "def brands(*files):\n",
    "    for f_name in files:\n",
    "        with open(f_name, encoding='Latin-1') as f:\n",
    "            for line in f:\n",
    "                yield line.strip('\\n')\n",
    "                \n",
    "def gen_clean_data(file):\n",
    "    with open(file, encoding='Latin-1') as f:\n",
    "        for line in f:\n",
    "            yield line.strip('\\n')\n",
    "            \n",
    "def brand_r(*files):\n",
    "    for file in files:\n",
    "        yield from gen_clean_data(file)\n",
    "    \n",
    "list(brand_r(*files))"
   ]
  }
 ],
 "metadata": {
  "kernelspec": {
   "display_name": "Python 3",
   "language": "python",
   "name": "python3"
  },
  "language_info": {
   "codemirror_mode": {
    "name": "ipython",
    "version": 3
   },
   "file_extension": ".py",
   "mimetype": "text/x-python",
   "name": "python",
   "nbconvert_exporter": "python",
   "pygments_lexer": "ipython3",
   "version": "3.9.5"
  }
 },
 "nbformat": 4,
 "nbformat_minor": 5
}
