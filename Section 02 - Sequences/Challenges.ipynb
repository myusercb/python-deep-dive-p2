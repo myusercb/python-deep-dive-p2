{
 "cells": [
  {
   "cell_type": "markdown",
   "metadata": {},
   "source": [
    "# Chapter tasks"
   ]
  },
  {
   "cell_type": "markdown",
   "metadata": {},
   "source": [
    "### Sequences - (Custom Sequences part 1)"
   ]
  },
  {
   "cell_type": "markdown",
   "metadata": {},
   "source": [
    "> Create custom sequence `MySeq` from an integer, that handles, len & slicing of positive and negative integers.\n",
    "\n",
    "Out:\n",
    "```\n",
    ">>> silly = MySeq(2)\n",
    ">>> for i in silly:\n",
    ">>>    print('element', i)\n",
    "\n",
    "element 0\n",
    "element 1\n",
    "element 2\n",
    "```"
   ]
  },
  {
   "cell_type": "code",
   "execution_count": null,
   "metadata": {
    "tags": []
   },
   "outputs": [],
   "source": [
    "# Example\n",
    "# In order to create a custom sequence we need to implement \n",
    "# two methods. 1) __len__ and 2) __getitem__\n",
    "\n",
    "class MySeq:\n",
    "    def __init__(self, n):\n",
    "        self.n = n\n",
    "    \n",
    "    # Handle lenght of element\n",
    "    def __len__(self):\n",
    "        print('Called __len__')\n",
    "        return self.n\n",
    "    \n",
    "    # Handle iteration and slicing of seq\n",
    "    def __getitem__(self, s):\n",
    "        \n",
    "        # Handle seq when input is an index hence int\n",
    "        if isinstance(s, int):\n",
    "            \n",
    "            # Handle negative indexing\n",
    "            if s < 0:\n",
    "                s = self.n + s\n",
    "                \n",
    "            # Handle iteration & positive indexing\n",
    "            if s < 0 or s >= self.n:\n",
    "                # Error raise if bounds are exceeded\n",
    "                # this is a stop condition when iterating (Eg: for loop)\n",
    "                # without this it will loop endlesly\n",
    "                raise IndexError\n",
    "            else:  \n",
    "                return s\n",
    "            \n",
    "        # Handle seq when input is a slice\n",
    "        else:\n",
    "            # Get lenght of seq (self.n as passed in the slicing Eg: seq[0:3])  \n",
    "            start, stop, step = s.indices(self.n)\n",
    "            # Construct a range\n",
    "            rng = range(start, stop, step)\n",
    "            # Return elements for defined range\n",
    "            return [i for i in rng]\n",
    "\n",
    "silly = MySeq(3)\n",
    "print('Length of sequence: ',len(silly))\n",
    "# silly.__getitem__(200)\n",
    "\n",
    "# Iterate sequence\n",
    "for i in silly:\n",
    "    print('Element :',i)\n",
    "    \n",
    "# Negative indexing\n",
    "print('Get last element with negative slicing:', silly[-1])\n",
    "\n",
    "# Handle slicing\n",
    "print('Get sliced element :', silly[0:3])"
   ]
  },
  {
   "cell_type": "code",
   "execution_count": null,
   "metadata": {},
   "outputs": [],
   "source": [
    "# done"
   ]
  },
  {
   "cell_type": "markdown",
   "metadata": {},
   "source": [
    "Challenge 2:\n",
    "\n",
    "> Create a sequence for fibonacci numbers called `Fib`:\n",
    "> - implement len, \n",
    "> - slicing and indexing positive and negative numbers without delegating.\n",
    "> - Add `fib` as a static method\n",
    "\n",
    "\n",
    "Out:\n",
    "```\n",
    ">>> fib = Fib(5)\n",
    ">>> for e in fib:\n",
    ">>>     print('Fib, 'e)\n",
    "Fib 1\n",
    "Fib 1\n",
    "Fib 2\n",
    "Fib 3\n",
    "Fib 5    \n",
    "    \n",
    "```"
   ]
  },
  {
   "cell_type": "code",
   "execution_count": 21,
   "metadata": {
    "jupyter": {
     "source_hidden": true
    },
    "tags": []
   },
   "outputs": [
    {
     "name": "stdout",
     "output_type": "stream",
     "text": [
      "Fib 1\n",
      "Fib 1\n",
      "Fib 2\n",
      "Fib 3\n",
      "Fib 5\n"
     ]
    }
   ],
   "source": [
    "# Example\n",
    "\n",
    "from functools import lru_cache\n",
    "\n",
    "class Fib:\n",
    "    def __init__(self, n):\n",
    "        self.n = n\n",
    "        \n",
    "    # Implement lenght\n",
    "    def __len__(self):\n",
    "        return self.n\n",
    "    \n",
    "    # Implement slicing and indexing\n",
    "    def __getitem__(self,s):\n",
    "        \n",
    "        # when s is an index hence int\n",
    "        if isinstance(s,int):\n",
    "            # handle negative int\n",
    "            if s < 0:\n",
    "                s = self.n + s\n",
    "            \n",
    "            # iteration stop cond\n",
    "            if s < 0 or s >= self.n:\n",
    "                raise IndexError\n",
    "                \n",
    "            else:\n",
    "                return Fib._fib(s)\n",
    "            \n",
    "        # when s is a slice    \n",
    "        else:\n",
    "            start, stop, step = s.indices(self.n)\n",
    "            return [Fib._fib(i) for i in range(start, stop, step)]\n",
    "    \n",
    "    # Implement fib private func\n",
    "   \n",
    "    # staticmethod is used when adding a function that does not\n",
    "    # belong to the class but goes with the class as in does not use\n",
    "    # \"self\" to operatte \n",
    "    @staticmethod\n",
    "    @lru_cache(2**10)\n",
    "    def _fib(n):\n",
    "        if n < 2:\n",
    "            return 1\n",
    "        else:\n",
    "            return Fib._fib(n-1) + Fib._fib(n-2)\n",
    "        \n",
    "fib = Fib(5)\n",
    "\n",
    "for e in fib:\n",
    "    print('Fib',e)"
   ]
  },
  {
   "cell_type": "code",
   "execution_count": null,
   "metadata": {},
   "outputs": [],
   "source": []
  },
  {
   "cell_type": "markdown",
   "metadata": {},
   "source": [
    "## Slicing - (Asignements in mutable sequences)"
   ]
  },
  {
   "cell_type": "markdown",
   "metadata": {},
   "source": [
    "> Delete first 3 elements of list [1,2,3,4,5] using slice"
   ]
  },
  {
   "cell_type": "code",
   "execution_count": 58,
   "metadata": {
    "tags": []
   },
   "outputs": [
    {
     "data": {
      "text/plain": [
       "[4, 5]"
      ]
     },
     "execution_count": 58,
     "metadata": {},
     "output_type": "execute_result"
    }
   ],
   "source": [
    "# Example\n",
    "\n",
    "l = [1,2,3,4,5]\n",
    "l[0:3] = []\n",
    "l"
   ]
  },
  {
   "cell_type": "code",
   "execution_count": null,
   "metadata": {},
   "outputs": [],
   "source": []
  },
  {
   "cell_type": "markdown",
   "metadata": {},
   "source": [
    "> Insert tuple ('a','b') at index 3 of list [1,2,3,4,5] using slice"
   ]
  },
  {
   "cell_type": "code",
   "execution_count": 56,
   "metadata": {
    "tags": []
   },
   "outputs": [
    {
     "data": {
      "text/plain": [
       "[1, 2, 3, 'a', 'b', 4, 5]"
      ]
     },
     "execution_count": 56,
     "metadata": {},
     "output_type": "execute_result"
    }
   ],
   "source": [
    "# Example\n",
    "\n",
    "l = [1,2,3,4,5]\n",
    "l[3:3] = ('a','b')\n",
    "l"
   ]
  },
  {
   "cell_type": "code",
   "execution_count": 59,
   "metadata": {},
   "outputs": [],
   "source": []
  },
  {
   "cell_type": "markdown",
   "metadata": {},
   "source": [
    "> Replace elements 0, 3, and 5 in list [1,2,3,4,5] with 'abc'"
   ]
  },
  {
   "cell_type": "code",
   "execution_count": 57,
   "metadata": {
    "tags": []
   },
   "outputs": [],
   "source": [
    "# Example\n",
    "\n",
    "l = [1,2,3,4,5]\n",
    "l[::2] = 'abc'"
   ]
  },
  {
   "cell_type": "code",
   "execution_count": null,
   "metadata": {},
   "outputs": [],
   "source": []
  },
  {
   "cell_type": "markdown",
   "metadata": {},
   "source": [
    "### Custom Sequences 2\n",
    "Special methods for any class (not restricted to tuple)\n",
    "* representation\n",
    "* concatenation (`+`)\n",
    "* in-place concatenation (`+=`)\n",
    "* repetition (`*`)\n",
    "* in-place repetition (`*=`)\n",
    "* right hand side repetition (n `*` MyClass)\n",
    "* contains (`in`)\n",
    "\n",
    "Create a class named MyClass that takes a single argument, `name`. Implement the above methods.\n",
    "\n",
    "Out:\n",
    "```\n",
    ">>> c1 = MyClass('Eric')\n",
    ">>> c2 = MyClass('Idle')\n",
    ">>> c1 + c2\n",
    "EricIdle\n",
    "```"
   ]
  },
  {
   "cell_type": "code",
   "execution_count": 53,
   "metadata": {
    "jupyter": {
     "source_hidden": true
    },
    "tags": []
   },
   "outputs": [],
   "source": [
    "# Example\n",
    "\n",
    "class MyClass:\n",
    "    # Constructor, initializes the class\n",
    "    def __init__(self, name):\n",
    "        self.name = name\n",
    "        \n",
    "    # Displays a non ambiguous representation of the object\n",
    "    # that can be used by eval func\n",
    "    def __repr__(self):\n",
    "        return f'MyClass(name={self.name})'\n",
    "    \n",
    "    # Concatenation\n",
    "    def __add__(self, other):\n",
    "        # Results in a new object with new id\n",
    "        'Eg: MyClass(\"Eric\") + MyClass(\"Idle\") -> MyClass(\"EricIdle\")'\n",
    "        # Using MyClass(self.name + other.name) because we want the output to be\n",
    "        # a new instance of class with a new id\n",
    "        return MyClass(self.name + other.name)\n",
    "    \n",
    "    # Inplace concatenation\n",
    "    def __iadd__(self, other):\n",
    "        # Content is mutated but id stays the same\n",
    "        'Eg: MyClass(\"Eric\") += MyClass(\"Idle\") -> MyClass(\"EricIdle\")'\n",
    "        \n",
    "        if isinstance(other, MyClass):\n",
    "            self.name += other.name\n",
    "        else:\n",
    "            self.name + other\n",
    "        return self\n",
    "    \n",
    "    # Repetition\n",
    "    def __mul__(self, n):\n",
    "        # Results in a new object with new id\n",
    "        'Eg: MyClass(\"Eric\") *2 -> MyClass(\"EricEric\")'\n",
    "        \n",
    "        return MyClass(self.name * n)\n",
    "    \n",
    "    # Inplace repetition\n",
    "    def __imul__(self, n):\n",
    "        # Content is mutated but id stays the same\n",
    "        'Eg: MyClass(\"Eric\")'\n",
    "        \n",
    "        self.name *= n\n",
    "        return self\n",
    "    \n",
    "    def __rmul__(self, n):\n",
    "        # Allows multiplication with coeficient in front of class\n",
    "        'Eg: 2 * MyClass(\"Eric\") -> MyClass(\"EricEric\")'\n",
    "        \n",
    "        return MyClass(self.name *n)\n",
    "    \n",
    "    def __contains__(self, value):\n",
    "        # Checks if a string is in MyClass.name\n",
    "        'Eg: \"Eric\" in MyClass(\"Eric Idle\") -> True'\n",
    "        \n",
    "        return value in self.name\n",
    "        \n",
    "\n",
    "c1 = MyClass('Eric')\n",
    "c2 = MyClass('Idle')"
   ]
  },
  {
   "cell_type": "code",
   "execution_count": null,
   "metadata": {},
   "outputs": [],
   "source": []
  },
  {
   "cell_type": "markdown",
   "metadata": {},
   "source": [
    "Create a custom `Point` class with 2 imput coordinates x and y: <br>\n",
    "* Accept input only if coordinates are `real numbers` type by using `numbers` library  else raise error <br>\n",
    "* Add representation to class <br>\n",
    "* Make `Point` class into a seq type <br>"
   ]
  },
  {
   "cell_type": "code",
   "execution_count": 83,
   "metadata": {
    "jupyter": {
     "source_hidden": true
    },
    "tags": []
   },
   "outputs": [],
   "source": [
    "# Example\n",
    "import numbers\n",
    "\n",
    "class Point:\n",
    "    def __init__(self, x, y):\n",
    "        if isinstance(x, numbers.Real) and isinstance(y, numbers.Real):\n",
    "            self._pt = (x, y)\n",
    "        else:\n",
    "            raise TypeError('Point co-ordinates must be real numbers.')\n",
    "            \n",
    "    def __repr__(self):\n",
    "        return f'Point(x={self._pt[0]}, y={self._pt[1]})'\n",
    "\n",
    "    # Create the sequence\n",
    "    def __len__(self):\n",
    "        return len(self._pt)\n",
    "    \n",
    "    # Create indexing + slicing as per req of a seq\n",
    "    def __getitem__(self, s):\n",
    "        # since _pt is a tuple, delegate the slicing to the tuple instance\n",
    "        # delegating removes the need to create slicing and indexing as for an int\n",
    "        # besides slicing and indexing we can now unpack our class in vars x,y = Point(1,2)\n",
    "        return self._pt[s]"
   ]
  },
  {
   "cell_type": "code",
   "execution_count": null,
   "metadata": {},
   "outputs": [],
   "source": []
  },
  {
   "cell_type": "markdown",
   "metadata": {},
   "source": [
    "Create a Polygon class that:\n",
    "* accepts as an input any iterable containing points (list, tuple)\n",
    "* Create an attribute `_pts` that contains a list of points (aka class Point()) if list is not empty, else assign an empty list\n",
    "> assert 'Polygon( (0,0), Point(1,1) )' == 'Polygon([Point(x=0, y=0), Point(x=1, y=1)])'\n",
    "* Create a class representation and evaluate the output with `eval` func\n",
    "> assert Polygon( (0,0), Point(1,1) ) == Polygon( (0,0), Point(1,1) )\n",
    "* Transform class into a sequence type\n",
    "> assert len(Polygon( (0,0), Point(1,1))) == 2 <br>\n",
    "> assert Polygon( (0,0), Point(1,1))[1] == (0,0)\n",
    "* Define concatenation, accept only same class type and return a new instance of Polygon\n",
    "> assert Polygon((0,0)) + Polygon((1,1)) == Polygon((0,0), (1,1))\n",
    "* Define inplace concatenation, must return the same instance of Polygon, accepts any iterable\n",
    "> assert Polygon((0,0)) += Polygon((1,1)) == Polygon((0,0), (1,1))\n",
    "* Define append, takes a Point() or an iterable with coordinates and appends them to the Polygon() instance\n",
    "> assert Polygon((0,0)).append((1,2)) == Polygon(Point(x=0, y=0), Point(x=1, y=2))\n",
    "* Define insert, takes a Point() and inserts it at defiend place\n",
    "> assert Polygon((0,0), (1,1)).insert(1, (2,2)) == Polygon(Point(x=0, y=0), Point(x=2, y=2), Point(x=1, y=1))\n",
    "* Define extend, takes a Point() and inserts it at defiend place\n",
    "> assert Polygon((0,0), (1,1)).extend(Point(2,2)) ==  Polygon(Point(x=0, y=0), Point(x=1, y=1), Point(x=2, y=2))\n",
    "* Define set item, allows to replace a Point or a slice at a certain index with another point / slice\n",
    "> Slice: assert  Polygon((0,0), (1,1))[0:2] = [(10,10), Point(20, 20)] ==  Polygon(Point(x=10, y=10), Point(x=20, y=20))\n",
    "> Int: assert  Polygon((0,0), (1,1))[0] = Point(2,2) == Polygon(Point(x=2, y=2), Point(x=1, y=1))\n",
    "* Define del, remove an item or a slice of item from class\n",
    "> assert  del p[0] == Polygon(Point(x=1, y=1)) # where p = Polygon(Point(x=0, y=0), Point(x=1, y=1))\n",
    "* Define pop, remove an item or a slice of item from class and display the index\n",
    "> assert  Polygon((0,0), (1,1)).pop(0) == Polygon(Point(x=1, y=1))\n",
    "* Define clear, removes the content of the class\n",
    "> Polygon((0,0), (1,1)).pop(0).clear() == Polygon()"
   ]
  },
  {
   "cell_type": "code",
   "execution_count": null,
   "metadata": {
    "jupyter": {
     "source_hidden": true
    },
    "tags": []
   },
   "outputs": [],
   "source": [
    "# Example\n",
    "\n",
    "class Polygon:\n",
    "    def __init__(self, *pts):\n",
    "        if pts:\n",
    "            self._pts = [Point(*pt) for pt in pts]\n",
    "        else:\n",
    "            self._pts = []\n",
    "            \n",
    "    def __repr__(self):\n",
    "        return f\"Polygon({ ', '.join( [str(i) for i in self._pts] ) })\"\n",
    "    \n",
    "    # Add seq properties for Polygon\n",
    "    def __len__(self):\n",
    "        return len(self._pts)\n",
    "    \n",
    "    def __getitem__(self, s):\n",
    "        return self._pts[s]\n",
    "    \n",
    "    # Add concatenation\n",
    "    def __add__(self, other):\n",
    "        if isinstance(other, Polygon):\n",
    "            # We want the output to be a new instance of Polygon\n",
    "            new_pts =  self._pts + other._pts\n",
    "            return Polygon(*new_pts)\n",
    "        else:\n",
    "            raise TypeError(f'can only concatenate with another Polygon')\n",
    "  \n",
    "    def __iadd__(self, other):\n",
    "        if isinstance(other, Polygon):\n",
    "            points = other._pts\n",
    "        else:\n",
    "            points = [Point(*pt) for pt in other]\n",
    "            \n",
    "        self._pts = self._pts + points\n",
    "        return self\n",
    "    \n",
    "    def append(self, pt):\n",
    "        # inherits append method from list because ._pts is a list\n",
    "        self._pts.append(Point(*pt))\n",
    "        \n",
    "    def insert(self, i, pt):\n",
    "        self._pts.insert(i, Point(*pt))\n",
    "        \n",
    "    def extend(self, pts):\n",
    "        if isinstance(pts, Polygon):\n",
    "            points =  pts._pts\n",
    "        else:\n",
    "            points = [Point(*pt) for pt in pts]\n",
    "        \n",
    "        self._pts += points\n",
    "        \n",
    "    def __setitem__(self, s, value):\n",
    "        try:\n",
    "            # Try to unpack multiple points from an iterable\n",
    "            rhs = [Point(*pt) for pt in value]\n",
    "            is_single = False\n",
    "        except TypeError:\n",
    "            try:\n",
    "                # Try to unpack a singe point from iterable\n",
    "                rhs = Point(*value)\n",
    "                is_single = True\n",
    "            except TypeError:\n",
    "                raise TypeError('Invalid Point or iterable of Points')\n",
    "          \n",
    "        # Set conditions for assignement\n",
    "        if isinstance(s, int) and is_single \\\n",
    "            or (isinstance(s, slice) and not single):\n",
    "                self._pts[s] = rhs\n",
    "        else:\n",
    "            raise TypeError('Incompatible index/slice assgnement')\n",
    "            \n",
    "    def __delitem__(self, s):\n",
    "        del self._pts[s]\n",
    "        \n",
    "    def pop(self, i):\n",
    "        self._pts.pop(i)\n",
    "        \n",
    "    def clear(self):\n",
    "        self._pts.clear()\n",
    "        \n",
    "    \n",
    "p1 = Polygon((0,0), Point(1,1))\n",
    "p2 = Polygon((2,2), Point(3,3))"
   ]
  },
  {
   "cell_type": "code",
   "execution_count": 246,
   "metadata": {},
   "outputs": [
    {
     "data": {
      "text/plain": [
       "Polygon(Point(x=9, y=9), Point(x=2, y=2))"
      ]
     },
     "execution_count": 246,
     "metadata": {},
     "output_type": "execute_result"
    }
   ],
   "source": []
  },
  {
   "cell_type": "markdown",
   "metadata": {},
   "source": [
    "### Sorting Seq"
   ]
  },
  {
   "cell_type": "markdown",
   "metadata": {},
   "source": [
    "Create a class MyClass that takes as input a name and a value. Add code that will allow this object to be sorted."
   ]
  },
  {
   "cell_type": "code",
   "execution_count": null,
   "metadata": {
    "jupyter": {
     "source_hidden": true
    },
    "tags": []
   },
   "outputs": [],
   "source": [
    "# Example\n",
    "\n",
    "class MyClass:\n",
    "    def __init__(self, name, val):\n",
    "        self.name = name\n",
    "        self.val = val\n",
    "        \n",
    "    def __repr__(self):\n",
    "        return f'MyClass({self.name}, {self.val})'\n",
    "    \n",
    "    # allows for sorting because now it has a natural ordering\n",
    "    def __lt__(self, other):\n",
    "        return self.val < other.val\n",
    "    \n",
    "c1 = MyClass('Cristian', '0')\n",
    "c2 = MyClass('Andrei', '1')\n",
    "\n",
    "sorted([c1, c2])"
   ]
  },
  {
   "cell_type": "code",
   "execution_count": null,
   "metadata": {},
   "outputs": [],
   "source": []
  },
  {
   "cell_type": "markdown",
   "metadata": {},
   "source": [
    "### List Comprehension"
   ]
  },
  {
   "cell_type": "markdown",
   "metadata": {},
   "source": [
    "Create a list comprehension that a  number from tuple (1,2,3) . Using compile and dis module disansamble the code."
   ]
  },
  {
   "cell_type": "code",
   "execution_count": null,
   "metadata": {
    "jupyter": {
     "source_hidden": true
    },
    "tags": []
   },
   "outputs": [],
   "source": [
    "# Example\n",
    "import dis\n",
    "\n",
    "squred = [i**2 for i in (1,2,3)]\n",
    "\n",
    "compiled_code = compile('[i**2 for i in (1,2,3)]', filename='strig', mode='eval')\n",
    "\n",
    "dis.dis(compiled_code)"
   ]
  },
  {
   "cell_type": "code",
   "execution_count": null,
   "metadata": {},
   "outputs": [],
   "source": []
  },
  {
   "cell_type": "markdown",
   "metadata": {},
   "source": [
    "# Project 1"
   ]
  },
  {
   "cell_type": "markdown",
   "metadata": {},
   "source": [
    "### Create a Polygon class that takes as an input a number of edges and the circumradius.\n",
    "### Goal 1\n",
    "* Properties:\n",
    "> edges: returns the number of edges <br>\n",
    "> vertices: returns the number of vertices <br>\n",
    "> interior_angle: returns the value of the internal angles <br>\n",
    "> edge_lenght: returns the value for edge length <br>\n",
    "> apothem: returns the value of the apothem <br>\n",
    "> area <br>\n",
    "> perimeter <br>\n",
    "\n",
    "* Functionalities:\n",
    "> a proper representation <br>\n",
    "> implements equality based on vertices and circumradius (2 polygons are equal if they have the same no of vertices and same circumradius) <br>\n",
    "> implements ordering based on the number of verices only <br>"
   ]
  },
  {
   "cell_type": "code",
   "execution_count": 1,
   "metadata": {
    "jupyter": {
     "source_hidden": true
    },
    "tags": []
   },
   "outputs": [],
   "source": [
    "# Solution\n",
    "import math\n",
    "\n",
    "class Polygon:\n",
    "    def __init__(self, edges, radius):\n",
    "        if edges < 2:\n",
    "            raise ValueError('Polygon must have at least 3 vertices.')\n",
    "        else:\n",
    "            self.edges = edges\n",
    "        self.radius = radius\n",
    "        \n",
    "    # Functionalities\n",
    "    def __repr__(self):\n",
    "        return f'Polygon(edges={self.edges}, radius={self.radius})'\n",
    "    \n",
    "    def __eq__(self, other):\n",
    "        if isinstance(other, self.__class__):\n",
    "            return (self.edges == other.edges \n",
    "                        and self.radius == other.radius)\n",
    "        else:\n",
    "            NotImplemented\n",
    "    \n",
    "    def __gt__(self, other):\n",
    "        if isinstance(other, self.__class__):\n",
    "            return self.edges > other.edges\n",
    "        else:\n",
    "            NotImplemented\n",
    "    \n",
    "    # Properties\n",
    "    @property\n",
    "    def vertices(self):\n",
    "        return slef.edges\n",
    "    \n",
    "    @property\n",
    "    def interior_angle(self):\n",
    "        return (self.edges -2) * (180 / math.pi)\n",
    "    \n",
    "    @property\n",
    "    def edge_length(self):\n",
    "        return 2 * self.radius * math.sin(math.pi / self.edges)\n",
    "    \n",
    "    @property\n",
    "    def apothem(self):\n",
    "        return self.radius * math.cos(math.pi / self.edges)\n",
    "        \n",
    "    @property\n",
    "    def area(self):\n",
    "        return (1/2) * self.edges * self.edge_length * self.apothem\n",
    "    \n",
    "    @property\n",
    "    def perimeter(self):\n",
    "        return self.edges * self.edge_length\n",
    "    \n",
    "    \n",
    "p1 = Polygon(4, 5)\n",
    "p2 = Polygon(3, 6)"
   ]
  },
  {
   "cell_type": "code",
   "execution_count": null,
   "metadata": {},
   "outputs": [],
   "source": []
  },
  {
   "cell_type": "markdown",
   "metadata": {},
   "source": [
    "### Goal 2\n",
    "* implement a `Polygons` class sequence type:\n",
    "> takes as input number of vertices for the larges polygon in the sequence <br>\n",
    "> common circumradius for all polygons <br>\n",
    "\n",
    "* Properties\n",
    "> max efficiency polygon: returns the Polygon with the highest area:perimeter ratio\n",
    "\n",
    "* Functionality\n",
    "> required func to make it a sequence (2 methods)"
   ]
  },
  {
   "cell_type": "code",
   "execution_count": 2,
   "metadata": {
    "jupyter": {
     "source_hidden": true
    },
    "tags": []
   },
   "outputs": [],
   "source": [
    "# Solution\n",
    "\n",
    "class Polygons:\n",
    "    def __init__(self, edges, radius):\n",
    "        if edges < 2:\n",
    "            raise ValueError('edges must be bigger than 3')\n",
    "        else:\n",
    "            self.edges = edges\n",
    "        self.radius = radius\n",
    "        self._polygons = [Polygon(i,radius) for i in range(3, edges+1)]\n",
    "        \n",
    "    def __repr__(self):\n",
    "        return f'Polygons(edges={self.edges}, radius={self.radius})'\n",
    "    \n",
    "    def __len__(self):\n",
    "        return self.edges\n",
    "    \n",
    "    def __getitem__(self, s):\n",
    "        return self._polygons[s]\n",
    "    \n",
    "    @property\n",
    "    def max_efficiency(self):\n",
    "        pol = sorted(self._polygons,\n",
    "                     key=lambda p: p.area / p.perimeter,\n",
    "                     reverse = True\n",
    "                     )\n",
    "        return pol[0]\n",
    "    \n",
    "    \n",
    "p = Polygons"
   ]
  },
  {
   "cell_type": "code",
   "execution_count": null,
   "metadata": {},
   "outputs": [],
   "source": []
  }
 ],
 "metadata": {
  "kernelspec": {
   "display_name": "Python 3 (ipykernel)",
   "language": "python",
   "name": "python3"
  },
  "language_info": {
   "codemirror_mode": {
    "name": "ipython",
    "version": 3
   },
   "file_extension": ".py",
   "mimetype": "text/x-python",
   "name": "python",
   "nbconvert_exporter": "python",
   "pygments_lexer": "ipython3",
   "version": "3.9.5"
  }
 },
 "nbformat": 4,
 "nbformat_minor": 4
}
