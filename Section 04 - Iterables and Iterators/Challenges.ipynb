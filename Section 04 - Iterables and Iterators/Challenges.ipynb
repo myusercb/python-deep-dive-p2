{
 "cells": [
  {
   "cell_type": "markdown",
   "id": "7cbbf25b-f52d-4ce1-be10-d5db492557e8",
   "metadata": {},
   "source": [
    "# Iteration, Generators"
   ]
  },
  {
   "cell_type": "markdown",
   "id": "2a0df2ba-ae97-4920-b287-6790a3132a3f",
   "metadata": {},
   "source": [
    "### Iterators"
   ]
  },
  {
   "cell_type": "markdown",
   "id": "47044cd5-8fac-46fb-b4e3-4fbee490346e",
   "metadata": {},
   "source": [
    "Create an iterator using the iterator protocol (uses two methods). The iterator name is `Squares` and provided a lenght returns a bunch of squared numbers until is exhausted.<br>\n",
    "\n",
    "Output: \n",
    "```\n",
    ">>> sq = Squares(5)\n",
    "[0,1,4,9,16]\n",
    "\n",
    "```"
   ]
  },
  {
   "cell_type": "code",
   "execution_count": null,
   "id": "1e1c2e8d-6413-475a-aa13-900d6dfe8365",
   "metadata": {
    "tags": []
   },
   "outputs": [],
   "source": [
    "# Example\n",
    "\n",
    "class Squares:\n",
    "    def __init__(self, length):\n",
    "        self.length = length\n",
    "        self.i = 0\n",
    "        \n",
    "    # allows for a class loop such that the item can be used\n",
    "    # in an external loop (for/while)\n",
    "    def __iter__(self):\n",
    "        return self\n",
    "    \n",
    "    # calls the next item untill the iterator is exhausted\n",
    "    def __next__(self):\n",
    "        if self.i >= self.length:\n",
    "            raise StopIteration\n",
    "        else:\n",
    "            item = self.i ** 2\n",
    "            self.i += 1 \n",
    "            return item\n",
    "    # !Note: the __iter__ and __next__ form the iterator protocol\n",
    "    \n",
    "sq = Squares(5)\n",
    "# next(sq)\n",
    "# [i for i in sq]"
   ]
  },
  {
   "cell_type": "code",
   "execution_count": null,
   "id": "da2c5e0f-94f4-4a54-96c9-85e470f12b5c",
   "metadata": {
    "tags": []
   },
   "outputs": [],
   "source": [
    "# done"
   ]
  },
  {
   "cell_type": "markdown",
   "id": "d033bfea-f0c0-45e8-8a92-3c151f08085f",
   "metadata": {},
   "source": [
    "### Iterators and iterables"
   ]
  },
  {
   "cell_type": "markdown",
   "id": "93352860-a5bb-4c7e-a469-045474000dd1",
   "metadata": {},
   "source": [
    "Create an iterator object, `Cities` that contains a list of cities `['Paris', 'Berlin', 'Madrid', 'London']`. <br>\n",
    "\n",
    "Problem: <br>\n",
    ">We need to reinstantiate the iterator `Cities` every time we want to iterate over it. <br>\n",
    " \n",
    "```\n",
    "Example:\n",
    "\n",
    ">>> cities1 = Cities()\n",
    ">>> [i.upper() for i in cities1]\n",
    "['PARIS', 'BERLIN', 'MADRID', 'LONDON']\n",
    "\n",
    ">>> cities2 = Cities()\n",
    ">>> [i.lower() for i in cities2]\n",
    "['paris', 'berlin', 'madrid', 'london']\n",
    "```\n",
    "\n",
    "Solution: <br>\n",
    "> Separate the `data` part of the code from the iterator by creating an iterator `CityIterator` that allowes iteration over the `Cities` object <br>\n",
    "\n",
    "Outcome: <br>\n",
    "> An object `Cities` that you need to create only ONCE. <br>\n",
    "> An object `CityIterator` that takes as input an instance of `Cities` and creates an iterable. <br>\n",
    "> We have now eliminated the need to instantiate `Cities` every time we want to create an iterable out of it. <br>\n",
    "\n",
    "Output:\n",
    "\n",
    "```\n",
    ">>> cities = Cities()\n",
    ">>> cityiterator = CityIterator(cities)\n",
    ">>> [i for i in ctityiterator]\n",
    "['Paris', 'Berlin', 'Madrid', 'London']\n",
    "```"
   ]
  },
  {
   "cell_type": "code",
   "execution_count": null,
   "id": "ae48fc81-a249-42e5-9afc-50205a3d94e8",
   "metadata": {
    "tags": []
   },
   "outputs": [],
   "source": [
    "# Example (I)\n",
    "\n",
    "class Cities:\n",
    "    def __init__(self):\n",
    "        self._cities = ['Paris', 'Berlin', 'Madrid', 'London']\n",
    "        \n",
    "    def __len__(self):\n",
    "        return len(self._cities)\n",
    "    \n",
    "    \n",
    "class CityIterator:\n",
    "    def __init__(self, city_obj):\n",
    "        self._city_obj = city_obj\n",
    "        self._index = 0\n",
    "\n",
    "    def __iter__(self):\n",
    "        return self\n",
    "\n",
    "    def __next__(self):\n",
    "        if self._index >= len(self._city_obj._cities):\n",
    "            raise StopIteration\n",
    "        else:\n",
    "            result = self._city_obj._cities[self._index]\n",
    "            self._index += 1\n",
    "            return result\n",
    "    \n",
    "cities = Cities()"
   ]
  },
  {
   "cell_type": "code",
   "execution_count": null,
   "id": "e19fca4b-236b-41e8-97ff-c3f31926271c",
   "metadata": {},
   "outputs": [],
   "source": [
    "# Example (II)\n",
    "\n",
    "# We can now iterate over cities without the need of re-instantiating it\n",
    "cityiterator = CityIterator(cities)\n",
    "[i for i in cityiterator]"
   ]
  },
  {
   "cell_type": "code",
   "execution_count": null,
   "id": "775efa7e-f5f1-499c-8507-db84115af8c3",
   "metadata": {},
   "outputs": [],
   "source": [
    "# done"
   ]
  },
  {
   "cell_type": "markdown",
   "id": "9a567ece-8b2d-44b6-acbb-016b1e1b117f",
   "metadata": {},
   "source": [
    "Modify `Cities` object to make it an iterable.<br>\n",
    "\n",
    "Problem: <br>\n",
    "We now have an object `Cities` and an iterator `CityIterator` however we still need to instantiate `CityIterator` every time we want to iterate over `cities`.\n",
    "```\n",
    ">>> cities = Cities()\n",
    ">>> cityiterator = CityIterator(cities)\n",
    ">>> [i.upper() for i in ctityiterator]\n",
    "['PARIS', 'BERLIN', 'MADRID', 'LONDON']\n",
    "\n",
    ">>> cityiterator = CityIterator(cities)\n",
    ">>> [i.lower() for i in ctityiterator]\n",
    "['paris', 'berlin', 'madrid', 'london']\n",
    "```\n",
    "\n",
    "Solution: <br>\n",
    "We would like to modify `Cities` into an Iterable (an object you can iterate over) that removes the need to instantiate the `CityIterator`.\n",
    "\n",
    "Outcome:\n",
    "Instantiate `Cities` once and iterate infinitely upon the `Cities` instance.\n",
    "\n",
    "Output:\n",
    "```\n",
    ">>> cities = Cities()\n",
    ">>> [i.upper() for i in cities]\n",
    "['PARIS', 'BERLIN', 'MADRID', 'LONDON']\n",
    "\n",
    ">>> [i.lower() for i in cities]\n",
    "['paris', 'berlin', 'madrid', 'london']\n",
    "```"
   ]
  },
  {
   "cell_type": "code",
   "execution_count": null,
   "id": "5c85010c-79e3-41d8-9e27-74d3eae18d69",
   "metadata": {
    "scrolled": true,
    "tags": []
   },
   "outputs": [],
   "source": [
    "# Example\n",
    "\n",
    "# Iterable\n",
    "class Cities:\n",
    "    # __iter__ = iterable protocol\n",
    "    def __init__(self):\n",
    "        self._cities = ['Paris', 'Berlin', 'Madrid', 'London']\n",
    "    \n",
    "    def __len__(self):\n",
    "        return len(self._cities)\n",
    "    \n",
    "    # By returning the iterator CityIterator(self) in the __iter__\n",
    "    # method we allow the class cities to be iterated without exhaustion.\n",
    "    # We can now do as many for loops as we want over the Cities class\n",
    "    def __iter__(self):\n",
    "        return CityIterator(self)\n",
    "    \n",
    "# Iterator\n",
    "class CityIterator:\n",
    "    # __iter__ & __next__ = iterator protocol\n",
    "    def __init__(self, city_obj):\n",
    "        self._city_obj = city_obj\n",
    "        self._index = 0\n",
    "        \n",
    "    # Allows iteration over the class\n",
    "    def __iter__(self):\n",
    "        return self\n",
    "    \n",
    "    # Allows looping over object until exhaustion\n",
    "    def __next__(self):\n",
    "        if self._index >= len(self._city_obj):\n",
    "            raise StopIteration\n",
    "        else:\n",
    "            item = self._city_obj._cities[self._index]\n",
    "            self._index += 1\n",
    "            return item\n",
    "        \n",
    "cities = Cities()\n",
    "[i for i in cities]"
   ]
  },
  {
   "cell_type": "code",
   "execution_count": null,
   "id": "11c84d80-4c27-42b7-a48c-78f2e644cbf4",
   "metadata": {},
   "outputs": [],
   "source": [
    "# done"
   ]
  },
  {
   "cell_type": "markdown",
   "id": "40e6dbb7-8db9-4ed3-919c-2d5da0d8bdf0",
   "metadata": {},
   "source": [
    "Refactor the code above such that all the code is under a single class"
   ]
  },
  {
   "cell_type": "code",
   "execution_count": null,
   "id": "12496693-bf49-47c7-bdf4-bb4952932330",
   "metadata": {},
   "outputs": [],
   "source": [
    "# Example\n",
    "\n",
    "# Iterable\n",
    "class Cities:\n",
    "    # __iter__ = iterable protocol\n",
    "    def __init__(self):\n",
    "        self._cities = ['Paris', 'Berlin', 'Madrid', 'London']\n",
    "    \n",
    "    def __len__(self):\n",
    "        return len(self._cities)\n",
    "    \n",
    "    # By returning the iterator CityIterator(self) in the __iter__\n",
    "    # method we allow the class cities to be iterated without exhaustion.\n",
    "    # We can now do as many for loops as we want over the Cities class\n",
    "    def __iter__(self):\n",
    "        return CityIterator(self)\n",
    "    \n",
    "    # Iterator\n",
    "    class CityIterator:\n",
    "        # __iter__ & __next__ = iterator protocol\n",
    "        def __init__(self, city_obj):\n",
    "            self._city_obj = city_obj\n",
    "            self._index = 0\n",
    "\n",
    "        # Allows iteration over the class\n",
    "        def __iter__(self):\n",
    "            return self\n",
    "\n",
    "        # Allows looping over object until exhaustion\n",
    "        def __next__(self):\n",
    "            if self._index >= len(self._city_obj):\n",
    "                raise StopIteration\n",
    "            else:\n",
    "                item = self._city_obj._cities[self._index]\n",
    "                self._index += 1\n",
    "                return item\n",
    "        \n",
    "cities = Cities()\n",
    "[i for i in cities]"
   ]
  },
  {
   "cell_type": "code",
   "execution_count": null,
   "id": "7cfbdb0f-e010-4c21-b151-4964abb8dba0",
   "metadata": {},
   "outputs": [],
   "source": [
    "# done"
   ]
  },
  {
   "cell_type": "markdown",
   "id": "d17b1875-6d14-4e06-94c5-f5ed84bf34c8",
   "metadata": {},
   "source": [
    "### Cyclic Iterators\n",
    "\n",
    "A cyclic Iterator is an iterator that repeats the same cycle indefinitely. <br>\n",
    "Example:\n",
    "> Having as input a colletion like `['N','S','W','E']` and a range of `10` elements the cyclic iterator would return <br>\n",
    "`[(1)N,(2)S,(3)W,(4)E,(5)N,(6)S,(7)W,(8)E,(9)N,(10)S]`"
   ]
  },
  {
   "cell_type": "markdown",
   "id": "6e427a73-d4ba-43d0-804b-f2d035cddde5",
   "metadata": {},
   "source": [
    "<br>"
   ]
  },
  {
   "cell_type": "markdown",
   "id": "459945b3-20df-40cb-b1e6-6d1a20d92d61",
   "metadata": {},
   "source": [
    "(1) Create an iterator called `CyclicIterator`. That takes as input a collection like `['N','S','W','E']` <br>\n",
    "\n",
    "(2) Create a list comprehension to iterate over an instance of `CyclicIterator` using a range of 10 elements.\n",
    "\n",
    "Output:\n",
    "```\n",
    ">>> iter_cycle = CyclicIterator('NSWE')\n",
    ">>> # write list comprehension\n",
    "['1N','2S','3W','4E','5N','6S'...]\n",
    "```"
   ]
  },
  {
   "cell_type": "code",
   "execution_count": null,
   "id": "0f79a54d-ff18-49cc-97f4-d19377bb7a0f",
   "metadata": {
    "tags": []
   },
   "outputs": [],
   "source": [
    "# Example\n",
    "\n",
    "# (1)\n",
    "class CyclicIterator:\n",
    "    def __init__(self, lst):\n",
    "        self.lst = lst\n",
    "        self.i = 0\n",
    "        \n",
    "    def __iter__(self):\n",
    "        return self\n",
    "    \n",
    "    # the `__next__` method has to create an iterator that\n",
    "    # keeps repeating after exceeding lst lenght (see collection_2).\n",
    "    # We will need to repeat the proccess until we exhaust collection_2.\n",
    "    def __next__(self):\n",
    "        result = self.lst[self.i % len(self.lst)]\n",
    "        self.i +=1\n",
    "        return result\n",
    "    \n",
    "iter_cycl = CyclicIterator('NSWE')\n",
    "\n",
    "# (2)\n",
    "n = 10\n",
    "items = [str(i) + next(iter_cycl) for i in range(1, n+1)]\n",
    "items"
   ]
  },
  {
   "cell_type": "code",
   "execution_count": null,
   "id": "be42ea92-3889-43a4-aff9-6e163359f201",
   "metadata": {},
   "outputs": [],
   "source": [
    "# done"
   ]
  },
  {
   "cell_type": "markdown",
   "id": "609ab2ec-2825-4bf3-8a63-f5e1e9f73af5",
   "metadata": {},
   "source": [
    "Recreate the `iter_cycle` and list comprehension output (see above) using itertools."
   ]
  },
  {
   "cell_type": "code",
   "execution_count": null,
   "id": "8d9bb60a-2eb8-4c63-97a0-47a4ac143f11",
   "metadata": {
    "tags": []
   },
   "outputs": [],
   "source": [
    "# Example\n",
    "import itertools\n",
    "\n",
    "n = 10\n",
    "iter_cycle = itertools.cycle('NSWE')\n",
    "items = [str(i) + next(iter_cycle) for i in range(1, n+1)]\n",
    "items"
   ]
  },
  {
   "cell_type": "code",
   "execution_count": null,
   "id": "8d814513-efc7-4f15-b794-1b4e4fd1d1d9",
   "metadata": {},
   "outputs": [],
   "source": [
    "# done"
   ]
  },
  {
   "cell_type": "markdown",
   "id": "0c171632-469a-4db5-b3b7-1c4bdb920cc9",
   "metadata": {},
   "source": [
    "# Lazy Iterable\n",
    "- A `lazy iterable` is an iterable which takes advantage of `lazy evaluation` aka computes values only when used."
   ]
  },
  {
   "cell_type": "markdown",
   "id": "6ebe79d0-aa06-473a-9e2d-cbf14a5bdd11",
   "metadata": {},
   "source": [
    "<br>"
   ]
  },
  {
   "cell_type": "markdown",
   "id": "0cd8bc82-eb3e-4310-aad9-8da549923d1d",
   "metadata": {},
   "source": [
    "Create a class `Circle` has an imput `r` and two properties, area and radius. <br>\n",
    "If radius changes then compute area else retrieve pre calculated area.<br>\n",
    "\n",
    "Problem: <br>\n",
    "> We want to write efficient code, as such we want to avoid computing any values before they are requested. <br>\n",
    "\n",
    "Solution:\n",
    "> Use a lazy evaluation approach. If radius changes then compute area else retrieve pre calculated area."
   ]
  },
  {
   "cell_type": "code",
   "execution_count": null,
   "id": "b08180fd-d02c-4255-a358-ca413d308059",
   "metadata": {
    "tags": []
   },
   "outputs": [],
   "source": [
    "# Example\n",
    "\n",
    "import math\n",
    "\n",
    "class Circle:\n",
    "    def __init__(self, r):\n",
    "        self.radius = r\n",
    "        # initially area is None\n",
    "        self._area = None\n",
    "        \n",
    "    @property\n",
    "    def radius(self):\n",
    "        return self._radius\n",
    "    \n",
    "    @radius.setter\n",
    "    def radius(self, r):\n",
    "        self._radius = r\n",
    "        # When we change radius we set area to None\n",
    "        # Just in case there is a previous area calculated\n",
    "        self._area = None\n",
    "\n",
    "    # Lazy evaluation of a property. Calculate area only if it's\n",
    "    # used.\n",
    "    @property\n",
    "    def area(self):\n",
    "        if self._area is None:\n",
    "            print('Calculating area...')\n",
    "            self._area = math.pi * self.radius ** 2\n",
    "        return self._area\n",
    "    \n",
    "        \n",
    "c = Circle(3)\n",
    "c.area"
   ]
  },
  {
   "cell_type": "code",
   "execution_count": 70,
   "id": "882f8a3e-89d2-4b20-ac4f-a0fa3801aecf",
   "metadata": {},
   "outputs": [],
   "source": [
    "# done"
   ]
  },
  {
   "cell_type": "markdown",
   "id": "dddda203-88e1-43ae-b6e2-35071d5afd62",
   "metadata": {},
   "source": [
    "Create an iterable `Factorials` that outputs an array of specific length of factorial numbers. Make use of the math module for factorial computation.\n",
    "\n",
    "Output:\n",
    "```\n",
    ">>> f = Factorials(5)\n",
    "[1, 1, 2, 6, 24]\n",
    "```"
   ]
  },
  {
   "cell_type": "code",
   "execution_count": 71,
   "id": "12db7e61-b61e-47c4-85a6-ce20af1d62dd",
   "metadata": {
    "tags": []
   },
   "outputs": [
    {
     "data": {
      "text/plain": [
       "[1, 1, 2, 6, 24]"
      ]
     },
     "execution_count": 71,
     "metadata": {},
     "output_type": "execute_result"
    }
   ],
   "source": [
    "# Example\n",
    "import math\n",
    "\n",
    "class Factorials:\n",
    "    # iterable\n",
    "    def __init__(self, length):\n",
    "        self.length = length\n",
    "        \n",
    "    def __iter__(self):\n",
    "        return self.FactIter(self.length)\n",
    "        \n",
    "            \n",
    "        # iterator\n",
    "    class FactIter:\n",
    "        def __init__(self,length):\n",
    "            self.length = length\n",
    "            self.i = 0\n",
    "            \n",
    "        def __iter__(self):\n",
    "            return self\n",
    "        \n",
    "        def __next__(self):\n",
    "            if self.i >= self.length:\n",
    "                raise StopIteration\n",
    "            else:\n",
    "                result = math.factorial(self.i)\n",
    "                self.i += 1\n",
    "                return result\n",
    "                \n",
    "facts = Factorials(5)\n",
    "list(facts)"
   ]
  },
  {
   "cell_type": "code",
   "execution_count": null,
   "id": "d829a3fd-e9fa-4aa8-82e5-5c8230b27929",
   "metadata": {},
   "outputs": [],
   "source": [
    "# done"
   ]
  },
  {
   "cell_type": "markdown",
   "id": "6db27df7-3e45-4acb-b679-f95244116ec2",
   "metadata": {},
   "source": [
    "### Python's built-in iterables and iterators"
   ]
  },
  {
   "cell_type": "markdown",
   "id": "ceadf683-a4d7-4b1a-bcdb-04a7a69f2ec8",
   "metadata": {},
   "source": [
    "<br>"
   ]
  },
  {
   "cell_type": "markdown",
   "id": "2d2e9629-e4f2-4988-8055-7fd959624c1d",
   "metadata": {},
   "source": [
    "Create an object `range(10)` and another object `zip([1,2,3], 'abc')` and check which is an iterator and which is an iterable."
   ]
  },
  {
   "cell_type": "code",
   "execution_count": 92,
   "id": "31cc5d3d-9a23-487a-84b5-a786252ea707",
   "metadata": {
    "tags": []
   },
   "outputs": [
    {
     "name": "stdout",
     "output_type": "stream",
     "text": [
      "<class 'range'>\n",
      "__iter__: True\n",
      "__next__: False\n",
      "This is an itrable \n",
      "\n",
      "<class 'zip'>\n",
      "__iter__: True\n",
      "__next__: True\n",
      "This is an iterator\n"
     ]
    }
   ],
   "source": [
    "# Example\n",
    "\n",
    "# Check Range\n",
    "rng = range(10)\n",
    "\n",
    "print(type(rng))\n",
    "print('__iter__:','__iter__' in dir(rng))\n",
    "print('__next__:','__next__' in dir(rng))\n",
    "print('This is an itrable', '\\n')\n",
    "\n",
    "# Check zip\n",
    "zp = zip([1,2,3], 'abc')\n",
    "\n",
    "print(type(zp))\n",
    "print('__iter__:','__iter__' in dir(zp))\n",
    "print('__next__:','__next__' in dir(zp))\n",
    "print('This is an iterator')"
   ]
  },
  {
   "cell_type": "code",
   "execution_count": null,
   "id": "b21bf1e1-8ed7-43e8-b4bc-1c8b4728b744",
   "metadata": {},
   "outputs": [],
   "source": [
    "# done"
   ]
  },
  {
   "cell_type": "markdown",
   "id": "0002a288-b2d4-41ae-bda4-32c220875e21",
   "metadata": {},
   "source": [
    "### Sorting Iterables"
   ]
  },
  {
   "cell_type": "markdown",
   "id": "2b603fb5-34e6-428f-b61c-331d553c0cce",
   "metadata": {},
   "source": [
    "<br>"
   ]
  },
  {
   "cell_type": "markdown",
   "id": "8c6345f0-5580-4b99-a859-6d6dcbb64123",
   "metadata": {},
   "source": [
    "Create an iterable called `RandomInts` that has an iterabele and iterator `RandomIterator` inside and can generate a finite array of specified length of random integers. Can be iterated upon infinte times. Use random package. Other characteristics: <br>\n",
    "> Has a variable lenght, contains a seed, has a lower and upper bound <br>\n",
    "\n",
    "- Sort the iterable ascending"
   ]
  },
  {
   "cell_type": "code",
   "execution_count": 21,
   "id": "e3e7fbb7-432b-40e4-8501-d6c400cb2979",
   "metadata": {
    "tags": []
   },
   "outputs": [
    {
     "data": {
      "text/plain": [
       "[6, 6, 0, 4, 8, 7, 6, 4, 7, 5]"
      ]
     },
     "execution_count": 21,
     "metadata": {},
     "output_type": "execute_result"
    }
   ],
   "source": [
    "# Example\n",
    "\n",
    "import random\n",
    "\n",
    "class RandomInts:\n",
    "    # define iterable\n",
    "    def __init__(self, length, *, seed=0, lower=0, upper=10):\n",
    "        self.length = length\n",
    "        self.seed = seed\n",
    "        self.lower = lower\n",
    "        self.upper = upper\n",
    "        \n",
    "    def __len__(self):\n",
    "        return self.length\n",
    "    \n",
    "    def __iter__(self):\n",
    "        return self.RandomIterator(self.length,\n",
    "                                  seed=self.seed,\n",
    "                                  lower=self.lower,\n",
    "                                  upper=self.upper)\n",
    "    \n",
    "    # Define iterator\n",
    "    class RandomIterator:\n",
    "        def __init__(self, length, *, seed, lower, upper):\n",
    "            self.length = length\n",
    "            self.lower = lower \n",
    "            self.upper = upper \n",
    "            self.num_requests = 0\n",
    "            # reset seed\n",
    "            random.seed(seed)\n",
    "            \n",
    "        def __iter__(self):\n",
    "            return self\n",
    "        \n",
    "        def __next__(self):\n",
    "            if self.num_requests >= self.length:\n",
    "                raise StopIteration\n",
    "            else:\n",
    "                result = random.randint(self.lower, self.upper)\n",
    "                self.num_requests +=1\n",
    "                return result\n",
    "            \n",
    "randoms = RandomInts(10)\n",
    "[i for i in randoms]"
   ]
  },
  {
   "cell_type": "code",
   "execution_count": null,
   "id": "cfffa54b-5d94-49aa-99ae-5903df815feb",
   "metadata": {},
   "outputs": [],
   "source": [
    "# done"
   ]
  },
  {
   "cell_type": "markdown",
   "id": "fbff0de8-c711-42ac-b338-54883ea90e33",
   "metadata": {},
   "source": [
    "### Iterating callables"
   ]
  },
  {
   "cell_type": "markdown",
   "id": "ce104339-a745-4429-9a7a-b5241c8229ea",
   "metadata": {},
   "source": [
    "Create a `counter` closure that starts from 0 and increases by one every time it's called"
   ]
  },
  {
   "cell_type": "code",
   "execution_count": 45,
   "id": "5579be87-1fd5-4a03-bcd6-f60f0165882f",
   "metadata": {
    "tags": []
   },
   "outputs": [],
   "source": [
    "# Example\n",
    "\n",
    "def counter():\n",
    "    i = 0\n",
    "    \n",
    "    def inner():\n",
    "        nonlocal i\n",
    "        i +=1\n",
    "        return i\n",
    "    return inner\n",
    "\n",
    "# cnt = counter()\n",
    "# cnt()"
   ]
  },
  {
   "cell_type": "code",
   "execution_count": null,
   "id": "4638ee38-42aa-4c37-bc9e-baddf7d9a2a9",
   "metadata": {},
   "outputs": [],
   "source": [
    "# done"
   ]
  },
  {
   "cell_type": "markdown",
   "id": "7aab6c08-262f-44a5-aa06-256e697eb9a1",
   "metadata": {},
   "source": [
    "Create a counter iterable using the iterator `CounterIterator` that takes in a `callable_` and a sentinel (sentinel is used for determening the length of the iterable) and returns an iterable. <br>\n",
    "> Test the new iterator on `counter` closure above. <br>\n",
    "> Use a list comprehension to iterate over 5 elements. <br>\n",
    "> After exhausting the iteration if we call next() on iterator it should raise a StopIteration err.\n",
    "\n",
    "Output:\n",
    "```\n",
    ">>> cnt = counter() # the callable\n",
    ">>> cnt_iter = CounterIterator(cnt, 5)\n",
    ">>> [i for i in cnt_iter]\n",
    "[1, 2, 3, 4]\n",
    "```"
   ]
  },
  {
   "cell_type": "code",
   "execution_count": 36,
   "id": "62121aac-84ac-45c2-b049-1b406c7dfa0d",
   "metadata": {
    "tags": []
   },
   "outputs": [
    {
     "data": {
      "text/plain": [
       "[1, 2, 3, 4]"
      ]
     },
     "execution_count": 36,
     "metadata": {},
     "output_type": "execute_result"
    }
   ],
   "source": [
    "# Example\n",
    "\n",
    "class CounterIterator:\n",
    "    def __init__(self, callable_, sentinel):\n",
    "        self.callable = callable_\n",
    "        self.sentinel = sentinel\n",
    "        self.is_consumed = False\n",
    "        \n",
    "    def __iter__(self):\n",
    "        return self\n",
    "    \n",
    "    def __next__(self):\n",
    "        # Use is_consumed such that if the returned value by the\n",
    "        # callable is higher than sentinel will stop iteration\n",
    "        if self.is_consumed:\n",
    "            raise StopIteration\n",
    "        else:\n",
    "            result = self.callable()\n",
    "            if result == self.sentinel:\n",
    "                self.is_consumed = True\n",
    "                raise StopIteration\n",
    "            else:\n",
    "                return result\n",
    "\n",
    "cnt = counter()\n",
    "cnt_iter = CounterIterator(cnt, 5)\n",
    "[i for i in cnt_iter]\n",
    "\n",
    "# using next on cnt_iter should raise StopIteration because whe have exceeded the length\n",
    "# of the iterator sentinel.\n",
    "# next(cnt_iter)"
   ]
  },
  {
   "cell_type": "code",
   "execution_count": 41,
   "id": "15b28d17-6f01-4255-8032-e8de01e98ebb",
   "metadata": {},
   "outputs": [
    {
     "data": {
      "text/plain": [
       "[1, 2, 3, 4]"
      ]
     },
     "execution_count": 41,
     "metadata": {},
     "output_type": "execute_result"
    }
   ],
   "source": [
    "# done"
   ]
  },
  {
   "cell_type": "markdown",
   "id": "2f0db9a0-0ef7-4848-b064-a77f7c7c6d6e",
   "metadata": {},
   "source": [
    "Create an callable iterator unsing only iter function. Reproduce the above output, make sure the iteration stops after 5 elements."
   ]
  },
  {
   "cell_type": "code",
   "execution_count": 47,
   "id": "095a173f-4408-4678-8702-b09a22e76ce1",
   "metadata": {
    "tags": []
   },
   "outputs": [],
   "source": [
    "# Example\n",
    "\n",
    "cnt_iter = iter(cnt, 5)\n",
    "for c in cnt_iter:\n",
    "    print(c)\n",
    "    \n",
    "next(cnt_iter)"
   ]
  },
  {
   "cell_type": "code",
   "execution_count": 48,
   "id": "2de0ecca-dde3-4696-866c-578fc287651b",
   "metadata": {},
   "outputs": [
    {
     "data": {
      "text/plain": [
       "[1, 2, 3, 4]"
      ]
     },
     "execution_count": 48,
     "metadata": {},
     "output_type": "execute_result"
    }
   ],
   "source": [
    "# done"
   ]
  },
  {
   "cell_type": "markdown",
   "id": "f3fba6c9-625c-422b-8f6e-30a91d60d25d",
   "metadata": {},
   "source": [
    "### Delegating Iterators"
   ]
  },
  {
   "cell_type": "markdown",
   "id": "5bdba066-9e45-430c-8fe9-f8b3d531b255",
   "metadata": {},
   "source": [
    "<br>"
   ]
  },
  {
   "cell_type": "markdown",
   "id": "0deeb876-1687-416b-afbc-225b54117d2d",
   "metadata": {},
   "source": [
    "Create an iterator `PersonNames` that takes as input a namedtuple / a list of namedtuples of type 'Persons' with attributes `first` and `last` names and outputs a list of str names capitalized.<br>\n",
    "> Make sure the iterator catches 2 exceptions: when object is not tuple and when object does not containt `first` & `last` attributes. If exception occurs pass an empty list. <br>\n",
    "> Delegate iteration to the list instead of creating the ususal iterable / iterator protocols\n",
    "\n",
    "Output:\n",
    "```\n",
    ">>> persons = [Person('michaeL', 'paLin'),\n",
    ">>>           Person('eric', 'idle'),\n",
    ">>>           Person('john', 'cleese')\n",
    ">>>          ]\n",
    ">>> person_names = PersonNames(persons)\n",
    ">>> person_names._persons\n",
    "['Michael Palin', 'Eric Idle', 'John Cleese']\n",
    "```"
   ]
  },
  {
   "cell_type": "code",
   "execution_count": 54,
   "id": "51ace410-08cc-488c-843d-75243e7d0331",
   "metadata": {
    "tags": []
   },
   "outputs": [
    {
     "data": {
      "text/plain": [
       "['Michael Palin', 'Eric Idle', 'John Cleese']"
      ]
     },
     "execution_count": 54,
     "metadata": {},
     "output_type": "execute_result"
    }
   ],
   "source": [
    "# Example\n",
    "\n",
    "from collections import namedtuple\n",
    "\n",
    "Person = namedtuple('Person', 'first last')\n",
    "\n",
    "class PersonNames:\n",
    "    def __init__(self, persons):\n",
    "        try:\n",
    "            self._persons = [person.first.capitalize() + ' ' + person.last.capitalize() \n",
    "                             for person in persons]\n",
    "        # pass a silent error if input is not namedtuple or does not habe first, last attributes\n",
    "        except (TypeError, AttributeError):\n",
    "            self._persons = []\n",
    "     \n",
    "    # delegating the responsibility of the iter to the _persons list\n",
    "    def __iter__(self):\n",
    "        return iter(self._persons)\n",
    "        \n",
    "                        \n",
    "persons = [Person('michaeL', 'paLin'),\n",
    "           Person('eric', 'idle'),\n",
    "           Person('john', 'cleese')\n",
    "          ]\n",
    "\n",
    "person_names = PersonNames(persons)\n",
    "person_names._persons"
   ]
  },
  {
   "cell_type": "code",
   "execution_count": 55,
   "id": "0f83559b-8c28-429c-9c76-9668f7110fe3",
   "metadata": {},
   "outputs": [],
   "source": [
    "# done"
   ]
  }
 ],
 "metadata": {
  "kernelspec": {
   "display_name": "Python 3",
   "language": "python",
   "name": "python3"
  },
  "language_info": {
   "codemirror_mode": {
    "name": "ipython",
    "version": 3
   },
   "file_extension": ".py",
   "mimetype": "text/x-python",
   "name": "python",
   "nbconvert_exporter": "python",
   "pygments_lexer": "ipython3",
   "version": "3.9.5"
  }
 },
 "nbformat": 4,
 "nbformat_minor": 5
}
