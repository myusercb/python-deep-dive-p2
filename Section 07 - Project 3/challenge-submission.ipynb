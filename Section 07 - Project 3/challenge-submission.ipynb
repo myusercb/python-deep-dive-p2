{
 "cells": [
  {
   "cell_type": "markdown",
   "id": "3d74e69f-e2c8-48f0-bdbc-669392a6d4e7",
   "metadata": {},
   "source": [
    "### Challenge Submission"
   ]
  },
  {
   "cell_type": "markdown",
   "id": "3762034d-e620-48cd-8756-7542a5730b12",
   "metadata": {},
   "source": [
    "### Goal 1:\n",
    "> Create a lazy iterator that will produce a named tuple for each row of the data. <br>\n",
    "Considerations:<br>\n",
    "> - Don't hardcode the name of the fields for namedtuple <br>\n",
    "> - The datatype should be correct for each field as in date should be date type <br>\n",
    "> - Use lazy iteration, can't load the entire file in memory <br>"
   ]
  },
  {
   "cell_type": "code",
   "execution_count": 96,
   "id": "9558ad81-630b-46d3-996b-90e526a083c1",
   "metadata": {
    "tags": []
   },
   "outputs": [],
   "source": [
    "from functools import namedtuple\n",
    "from functools import partial\n",
    "from datetime import datetime\n",
    "\n",
    "# Parse clean header\n",
    "def clean_header(s):\n",
    "    return s.replace(' ','_').lower()\n",
    " \n",
    "# Parse rows skipping the header\n",
    "def read_data(path):\n",
    "    with open(path) as f:\n",
    "        next(f)\n",
    "        yield from f\n",
    "        \n",
    "# Parse integer\n",
    "def parse_int(value, *, default=None):\n",
    "    try:\n",
    "        return int(value)\n",
    "    except ValueError:\n",
    "        return default\n",
    "    \n",
    "# Parse date\n",
    "def parse_date(value, *, default=None):\n",
    "    date_format = '%m/%d/%Y'\n",
    "    try:\n",
    "        return datetime.strptime(value, date_format).date()\n",
    "    except ValueError:\n",
    "        return default\n",
    "    \n",
    "# Parse string\n",
    "def parse_string(string, *, default=None):\n",
    "    try:\n",
    "        cleaned = string.strip()\n",
    "        # Empty string\n",
    "        if not cleaned:\n",
    "            return default\n",
    "        else:\n",
    "            return cleaned\n",
    "    except ValueError:\n",
    "        return default\n",
    "    \n",
    "def parse_row(row, *, default=None):\n",
    "    # clean row\n",
    "    fields = row.strip('\\n').split(',')\n",
    "    # parse data with propper dtype\n",
    "    parsed_data = [func(field) \n",
    "                   for func, field in zip(column_parser, fields)]\n",
    "    \n",
    "    # skip rows with missing values\n",
    "    if all(item is not None for item in parsed_data):\n",
    "        return Ticket(*parsed_data)\n",
    "    else:\n",
    "        return default\n",
    "    \n",
    "def parsed_data(path):\n",
    "    for row in read_data(path):\n",
    "        parsed = parse_row(row)\n",
    "        if parsed:\n",
    "            yield parsed"
   ]
  },
  {
   "cell_type": "code",
   "execution_count": 155,
   "id": "247eb36c-7b12-47de-b005-83943ab90ff3",
   "metadata": {},
   "outputs": [],
   "source": [
    "if __name__ == '__main__':\n",
    "    path = 'nyc_parking_tickets_extract.csv'\n",
    "    \n",
    "    with open(path) as f:\n",
    "        # creat clean header\n",
    "        column_header = clean_header(next(f))\n",
    "        # create namedtuple\n",
    "        Ticket = namedtuple('Ticket', column_header)\n",
    "        \n",
    "    # create tuple with all dtypes to parse. Used partial to set the default arguments.\n",
    "    column_parser = (parse_int,  # summons_number, default is None\n",
    "                      parse_string,  # plate_id, default is None\n",
    "                      partial(parse_string, default=''),  # state\n",
    "                      partial(parse_string, default=''),  # plate_type\n",
    "                      parse_date,  # issue_date, default is None\n",
    "                      parse_int,  # violation_code\n",
    "                      partial(parse_string, default=''),  # body type\n",
    "                      parse_string,  # make, default is None\n",
    "                      lambda x: parse_string(x, default='')  # description\n",
    "                     )\n",
    "    \n",
    "    # parse data\n",
    "    data = parsed_data(path)\n",
    "    \n",
    "#     # test output\n",
    "#     for _ in range(5):\n",
    "#         print(next(data))"
   ]
  },
  {
   "cell_type": "markdown",
   "id": "6ef83cc1-776e-4579-b558-32d81415f8e3",
   "metadata": {},
   "source": [
    "### Goal 2:\n",
    "> - Calculate the number of violation per car make <br>\n",
    "> - Use the lazy iteration from goal 1 <br>\n",
    "> - Output should be a dict with key = car make and value = # viloations <br>"
   ]
  },
  {
   "cell_type": "code",
   "execution_count": 156,
   "id": "d3671bb8-084c-4bff-a8e7-22023edeb37d",
   "metadata": {},
   "outputs": [
    {
     "data": {
      "text/plain": [
       "{'TOYOT': 112,\n",
       " 'HONDA': 106,\n",
       " 'FORD': 104,\n",
       " 'CHEVR': 76,\n",
       " 'NISSA': 70,\n",
       " 'DODGE': 45,\n",
       " 'FRUEH': 44,\n",
       " 'ME/BE': 38,\n",
       " 'GMC': 35,\n",
       " 'HYUND': 35,\n",
       " 'BMW': 34,\n",
       " 'LEXUS': 26,\n",
       " 'INTER': 25,\n",
       " 'JEEP': 22,\n",
       " 'NS/OT': 18,\n",
       " 'SUBAR': 18,\n",
       " 'INFIN': 13,\n",
       " 'LINCO': 12,\n",
       " 'CHRYS': 12,\n",
       " 'ACURA': 12,\n",
       " 'AUDI': 12,\n",
       " 'VOLVO': 12,\n",
       " 'MITSU': 11,\n",
       " 'ISUZU': 10,\n",
       " 'CADIL': 9,\n",
       " 'KIA': 8,\n",
       " 'VOLKS': 8,\n",
       " 'HIN': 6,\n",
       " 'KENWO': 5,\n",
       " 'ROVER': 5,\n",
       " 'BUICK': 5,\n",
       " 'MAZDA': 5,\n",
       " 'MERCU': 4,\n",
       " 'JAGUA': 3,\n",
       " 'SMART': 3,\n",
       " 'PORSC': 3,\n",
       " 'WORKH': 2,\n",
       " 'SATUR': 2,\n",
       " 'SCION': 2,\n",
       " 'SAAB': 2,\n",
       " 'HINO': 2,\n",
       " 'FIR': 1,\n",
       " 'OLDSM': 1,\n",
       " 'PETER': 1,\n",
       " 'CITRO': 1,\n",
       " 'GEO': 1,\n",
       " 'YAMAH': 1,\n",
       " 'BSA': 1,\n",
       " 'MINI': 1,\n",
       " 'PONTI': 1,\n",
       " 'SPRI': 1,\n",
       " 'PLYMO': 1,\n",
       " 'UPS': 1,\n",
       " 'FIAT': 1,\n",
       " 'UD': 1,\n",
       " 'UTILI': 1,\n",
       " 'GMCQ': 1,\n",
       " 'STAR': 1,\n",
       " 'AM/T': 1,\n",
       " 'MI/F': 1}"
      ]
     },
     "execution_count": 156,
     "metadata": {},
     "output_type": "execute_result"
    }
   ],
   "source": [
    "dt = {}\n",
    "\n",
    "while True:\n",
    "    try:\n",
    "        make = next(data).vehicle_make\n",
    "        if make in dt.keys():\n",
    "            dt[make] += 1\n",
    "        else:\n",
    "            dt[make] = 1\n",
    "    except StopIteration:\n",
    "        break\n",
    "        \n",
    "{k:v for k, v in sorted(dt.items(), key=lambda x: x[1], reverse=True)}"
   ]
  },
  {
   "cell_type": "markdown",
   "id": "cc0ebb46-70a4-430a-80e2-7cdbfbd06687",
   "metadata": {},
   "source": [
    "# Sandbox"
   ]
  },
  {
   "cell_type": "code",
   "execution_count": 73,
   "id": "d354415f-a0a0-425b-be75-1ad36508a994",
   "metadata": {},
   "outputs": [
    {
     "name": "stdout",
     "output_type": "stream",
     "text": [
      "summons_number,plate_id,registration_state,plate_type,issue_date,violation_code,vehicle_body_type,vehicle_make,violation_description\n",
      "\n"
     ]
    }
   ],
   "source": [
    "with open(path) as f:\n",
    "    print(clean_header(next(f)))"
   ]
  },
  {
   "cell_type": "code",
   "execution_count": 51,
   "id": "c645b7c3-b609-4e20-a263-9e8282106cfb",
   "metadata": {},
   "outputs": [
    {
     "name": "stdout",
     "output_type": "stream",
     "text": [
      "4006478550,VAD7274,VA,PAS,10/5/2016,5,4D,BMW,BUS LANE VIOLATION\n",
      "\n",
      "4006462396,22834JK,NY,COM,9/30/2016,5,VAN,CHEVR,BUS LANE VIOLATION\n",
      "\n",
      "4007117810,21791MG,NY,COM,4/10/2017,5,VAN,DODGE,BUS LANE VIOLATION\n",
      "\n",
      "4006265037,FZX9232,NY,PAS,8/23/2016,5,SUBN,FORD,BUS LANE VIOLATION\n",
      "\n",
      "4006535600,N203399C,NY,OMT,10/19/2016,5,SUBN,FORD,BUS LANE VIOLATION\n",
      "\n"
     ]
    }
   ],
   "source": [
    "path = 'nyc_parking_tickets_extract.csv'\n",
    "def read_data():\n",
    "    with open(path) as f:\n",
    "        next(f)\n",
    "        yield from f\n",
    "        \n",
    "raw_data = read_data()\n",
    "\n",
    "for _ in range(5):\n",
    "    print(next(raw_data))"
   ]
  },
  {
   "cell_type": "code",
   "execution_count": 58,
   "id": "4efe5d20-74b0-4919-b390-71d57ea757a1",
   "metadata": {},
   "outputs": [
    {
     "data": {
      "text/plain": [
       "5"
      ]
     },
     "execution_count": 58,
     "metadata": {},
     "output_type": "execute_result"
    }
   ],
   "source": [
    "def parse_int(value, *, default=None):\n",
    "    try:\n",
    "        return int(value)\n",
    "    except ValueError:\n",
    "        return default\n",
    "    \n",
    "    \n",
    "parse_int('5')"
   ]
  },
  {
   "cell_type": "code",
   "execution_count": 63,
   "id": "4c2ea975-d559-4d35-abbc-a5feec5413a8",
   "metadata": {},
   "outputs": [
    {
     "data": {
      "text/plain": [
       "datetime.date(2020, 8, 26)"
      ]
     },
     "execution_count": 63,
     "metadata": {},
     "output_type": "execute_result"
    }
   ],
   "source": [
    "def parse_date(value, *, default=None):\n",
    "    date_format = '%m/%d/%Y'\n",
    "    try:\n",
    "        return datetime.strptime(value, date_format).date()\n",
    "    except ValueError:\n",
    "        return default\n",
    "    \n",
    "parse_date('08/26/2020')"
   ]
  },
  {
   "cell_type": "code",
   "execution_count": 71,
   "id": "6876c040-10c9-4154-b179-6ed85103878a",
   "metadata": {},
   "outputs": [
    {
     "data": {
      "text/plain": [
       "'1'"
      ]
     },
     "execution_count": 71,
     "metadata": {},
     "output_type": "execute_result"
    }
   ],
   "source": [
    "def parse_str(string, *, default=None):\n",
    "    try:\n",
    "        cleaned = string.strip()\n",
    "        # Empty string\n",
    "        if not cleaned:\n",
    "            return default\n",
    "        else:\n",
    "            return cleaned\n",
    "    except ValueError:\n",
    "        return default\n",
    "    \n",
    "parse_str('1')"
   ]
  },
  {
   "cell_type": "code",
   "execution_count": 89,
   "id": "cec535a4-c1a2-4989-8d4f-12169e11bdde",
   "metadata": {},
   "outputs": [
    {
     "name": "stdout",
     "output_type": "stream",
     "text": [
      "4006478550 VAD7274 VA PAS 2016-10-05 5 4D BMW BUS LANE VIOLATION\n",
      "Ticket(summons_number=4006478550, plate_id='VAD7274', registration_state='VA', plate_type='PAS', issue_date=datetime.date(2016, 10, 5), violation_code=5, vehicle_body_type='4D', vehicle_make='BMW', violation_description='BUS LANE VIOLATION')\n",
      "4006462396 22834JK NY COM 2016-09-30 5 VAN CHEVR BUS LANE VIOLATION\n",
      "Ticket(summons_number=4006462396, plate_id='22834JK', registration_state='NY', plate_type='COM', issue_date=datetime.date(2016, 9, 30), violation_code=5, vehicle_body_type='VAN', vehicle_make='CHEVR', violation_description='BUS LANE VIOLATION')\n",
      "4007117810 21791MG NY COM 2017-04-10 5 VAN DODGE BUS LANE VIOLATION\n",
      "Ticket(summons_number=4007117810, plate_id='21791MG', registration_state='NY', plate_type='COM', issue_date=datetime.date(2017, 4, 10), violation_code=5, vehicle_body_type='VAN', vehicle_make='DODGE', violation_description='BUS LANE VIOLATION')\n",
      "4006265037 FZX9232 NY PAS 2016-08-23 5 SUBN FORD BUS LANE VIOLATION\n",
      "Ticket(summons_number=4006265037, plate_id='FZX9232', registration_state='NY', plate_type='PAS', issue_date=datetime.date(2016, 8, 23), violation_code=5, vehicle_body_type='SUBN', vehicle_make='FORD', violation_description='BUS LANE VIOLATION')\n",
      "4006535600 N203399C NY OMT 2016-10-19 5 SUBN FORD BUS LANE VIOLATION\n",
      "Ticket(summons_number=4006535600, plate_id='N203399C', registration_state='NY', plate_type='OMT', issue_date=datetime.date(2016, 10, 19), violation_code=5, vehicle_body_type='SUBN', vehicle_make='FORD', violation_description='BUS LANE VIOLATION')\n"
     ]
    }
   ],
   "source": [
    "def parse_row(row, *, default=None):\n",
    "    # clean row\n",
    "    fields = row.strip('\\n').split(',')\n",
    "    # parse data with propper dtype\n",
    "    parsed_data = [func(field) \n",
    "                   for func, field in zip(column_parser, fields)]\n",
    "    \n",
    "    # skip rows with missing values\n",
    "    if all(item is not None for item in parsed_data):\n",
    "        return Ticket(*parsed_data)\n",
    "    else:\n",
    "        return default\n",
    "    \n",
    "rows = read_data(path)\n",
    "for _ in range(5):\n",
    "    row = next(rows)\n",
    "    parsed_data = parse_row(row)\n",
    "    print(parsed_data)"
   ]
  }
 ],
 "metadata": {
  "kernelspec": {
   "display_name": "Python 3",
   "language": "python",
   "name": "python3"
  },
  "language_info": {
   "codemirror_mode": {
    "name": "ipython",
    "version": 3
   },
   "file_extension": ".py",
   "mimetype": "text/x-python",
   "name": "python",
   "nbconvert_exporter": "python",
   "pygments_lexer": "ipython3",
   "version": "3.9.5"
  }
 },
 "nbformat": 4,
 "nbformat_minor": 5
}
